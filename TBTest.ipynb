{
 "cells": [
  {
   "cell_type": "code",
   "execution_count": 2,
   "id": "8caf22ad-9a81-4c58-991a-c47127105909",
   "metadata": {},
   "outputs": [
    {
     "name": "stdout",
     "output_type": "stream",
     "text": [
      "The tensorboard extension is already loaded. To reload it, use:\n",
      "  %reload_ext tensorboard\n"
     ]
    },
    {
     "name": "stderr",
     "output_type": "stream",
     "text": [
      "2023-07-06 18:39:06.363402: I tensorflow/tsl/cuda/cudart_stub.cc:28] Could not find cuda drivers on your machine, GPU will not be used.\n",
      "2023-07-06 18:39:06.599946: I tensorflow/tsl/cuda/cudart_stub.cc:28] Could not find cuda drivers on your machine, GPU will not be used.\n",
      "2023-07-06 18:39:06.601323: I tensorflow/core/platform/cpu_feature_guard.cc:182] This TensorFlow binary is optimized to use available CPU instructions in performance-critical operations.\n",
      "To enable the following instructions: AVX2 FMA, in other operations, rebuild TensorFlow with the appropriate compiler flags.\n",
      "2023-07-06 18:39:08.978559: W tensorflow/compiler/tf2tensorrt/utils/py_utils.cc:38] TF-TRT Warning: Could not find TensorRT\n"
     ]
    }
   ],
   "source": [
    "%load_ext tensorboard\n",
    "import tensorflow as tf\n",
    "from tensorboard.plugins.hparams import api as hp\n",
    "\n",
    "# Define your hyperparameters\n",
    "learning_rate = 0.001\n",
    "units = 64\n",
    "\n",
    "# Create a summary writer and start a new session\n",
    "writer = tf.summary.create_file_writer('logs/hparams')\n",
    "\n",
    "# Define the hyperparameter configuration\n",
    "hyperparams = {\n",
    "    'learning_rate': learning_rate,\n",
    "    'units': units\n",
    "}\n",
    "\n",
    "# Log the hyperparameters\n",
    "with writer.as_default():\n",
    "    hp.hparams(hyperparams)  # Log the hyperparameters\n",
    "\n",
    "# Start the TensorBoard server to visualize the logs\n",
    "# Open a terminal or command prompt and navigate to the directory containing your code\n",
    "# Run the fol"
   ]
  }
 ],
 "metadata": {
  "kernelspec": {
   "display_name": "Python 3 (ipykernel)",
   "language": "python",
   "name": "python3"
  },
  "language_info": {
   "codemirror_mode": {
    "name": "ipython",
    "version": 3
   },
   "file_extension": ".py",
   "mimetype": "text/x-python",
   "name": "python",
   "nbconvert_exporter": "python",
   "pygments_lexer": "ipython3",
   "version": "3.10.6"
  }
 },
 "nbformat": 4,
 "nbformat_minor": 5
}
