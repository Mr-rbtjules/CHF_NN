{
 "cells": [
  {
   "cell_type": "code",
   "execution_count": 4,
   "id": "8caf22ad-9a81-4c58-991a-c47127105909",
   "metadata": {},
   "outputs": [],
   "source": [
    "import tensorflow as tf\n",
    "from tensorboard.plugins.hparams import api as hp\n",
    "\n",
    "# Define the hyperparameters\n",
    "HP_ARCHITECTURE_1 = hp.HParam('architecture_1', hp.Discrete([5, 39, 40, 31, 42, 1]))\n",
    "HP_ARCHITECTURE_2 = hp.HParam('architecture_2', hp.Discrete([5, 61, 51, 28, 39, 26, 2120, 14, 1]))\n",
    "HP_LEARNING_RATE = hp.HParam('learning_rate', hp.Discrete([0.01, 0.009, 0.008, 0.007, 0.006, 0.005, 0.004, 0.003, 0.002, 0.001]))\n",
    "\n",
    "METRIC_MSLE = 'msle'\n",
    "\n",
    "# Configure the hyperparameters and metrics for TensorBoard\n",
    "with tf.summary.create_file_writer('logs/hparam_tuning').as_default():\n",
    "    hp.hparams_config(\n",
    "        hparams=[HP_ARCHITECTURE_1, HP_ARCHITECTURE_2, HP_LEARNING_RATE],\n",
    "        metrics=[hp.Metric(METRIC_MSLE, display_name='MSLE')],\n",
    "    )\n"
   ]
  },
  {
   "cell_type": "code",
   "execution_count": null,
   "id": "4fdcc284-964c-44fd-9413-877390e07cb8",
   "metadata": {},
   "outputs": [],
   "source": [
    "#ou alors\n",
    "\n",
    "\"\"\"\n",
    "\n",
    "# Define your hyperparameters\n",
    "learning_rate = 0.001\n",
    "units = 64\n",
    "\n",
    "# Create a summary writer and start a new session\n",
    "writer = tf.summary.create_file_writer('logs/hparams')\n",
    "\n",
    "# Define the hyperparameter configuration\n",
    "hyperparams = {\n",
    "    'learning_rate': learning_rate,\n",
    "    'units': units\n",
    "}\n",
    "\n",
    "# Log the hyperparameters\n",
    "with writer.as_default():\n",
    "    hp.hparams(hyperparams)  # Log the hyperparameters\n",
    "\n",
    "\"\"\"\n",
    "# Start the TensorBoard server to visualize the logs\n",
    "# Open a terminal or command prompt and navigate to the directory containing your code\n",
    "# Run the fol"
   ]
  }
 ],
 "metadata": {
  "kernelspec": {
   "display_name": "Python 3 (ipykernel)",
   "language": "python",
   "name": "python3"
  },
  "language_info": {
   "codemirror_mode": {
    "name": "ipython",
    "version": 3
   },
   "file_extension": ".py",
   "mimetype": "text/x-python",
   "name": "python",
   "nbconvert_exporter": "python",
   "pygments_lexer": "ipython3",
   "version": "3.10.6"
  }
 },
 "nbformat": 4,
 "nbformat_minor": 5
}
