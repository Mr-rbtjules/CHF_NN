{
 "cells": [
  {
   "cell_type": "code",
   "execution_count": null,
   "id": "dd732686-1a61-4a44-91d8-47455676a7af",
   "metadata": {},
   "outputs": [],
   "source": [
    "import tensorflow as tf\n",
    "import pandas as pd\n",
    "from tensorflow.keras.models import Sequential #regroupement de layer formant le modele\n",
    "#dense == tensor ou layer ou ensemble de neurons d'un mm niveau \n",
    " \n",
    "from tensorflow.keras.layers import Dense, Dropout, BatchNormalization #layer instance\n",
    "\n",
    "#import la fct elu pour pouvoir gerer HP alpha\n",
    "from tensorflow.keras.activations import relu\n",
    "from tensorflow.keras.losses import MeanSquaredLogarithmicError\n",
    "from tensorflow.keras.optimizers import Adam\n",
    "from tensorflow.keras.callbacks import LearningRateScheduler, EarlyStopping, TensorBoard\n",
    "\n",
    "#normalisation data set + cross val\n",
    "from sklearn.preprocessing import StandardScaler\n",
    "from sklearn.model_selection import KFold\n",
    "from sklearn.utils import shuffle\n",
    "\n",
    "\n"
   ]
  },
  {
   "cell_type": "code",
   "execution_count": null,
   "id": "01534684-c1b0-43ce-8db8-81ed41b95bca",
   "metadata": {},
   "outputs": [],
   "source": [
    "\n",
    "###HYPERPARAM###\n",
    "# type d'archi qu'on veut \n",
    "architecture = [39, 40, 31, 42, 1]#small\n",
    "#big = \"[5,61,51,28,39,26,2120,14,1]\"\n",
    "\n",
    "dropoutRate = 0.2\n",
    "learningRate = 0.001\n",
    "testPercent = 0.2\n",
    "maxEpochs = 850 #pas trop important car peut de chance d'overfitt\n",
    "thresholdActi = 0\n",
    "alphaActi = 0 #! >=0  = pente pour tt x en dessous de thresold\n",
    "clipGrad = 1\n"
   ]
  },
  {
   "cell_type": "code",
   "execution_count": null,
   "id": "b89b3da9-b5fd-406b-b199-6119faa5fb70",
   "metadata": {},
   "outputs": [],
   "source": [
    "\n",
    "# met la LUT\n",
    "data = pd.read_csv('./src/sort.csv') \n",
    "\n",
    "data = shuffle(data)\n",
    "\n",
    "\n",
    "features = data.iloc[:, 1:6].values #inputs\n",
    "targets = data.iloc[:, 7].values #target outputs\n",
    "\n",
    "# normalisation std\n",
    "scaler = StandardScaler()\n",
    "features = scaler.fit_transform(features)\n",
    "\n",
    "##import to save bc use it when want to predict\n",
    "mean_value = scaler.mean_\n",
    "std_deviation = scaler.scale_\n",
    "\n",
    "#new_data = scaler.transform(new_data) to the input for prediction\n",
    "\n"
   ]
  },
  {
   "cell_type": "code",
   "execution_count": null,
   "id": "dc440c0b-3818-4908-9896-111081ac3313",
   "metadata": {},
   "outputs": [],
   "source": [
    "# Define the number of folds for cross-validation\n",
    "k = 5\n",
    "\n",
    "# Initialize the K-fold cross-validator\n",
    "kf = KFold(n_splits=k)\n",
    "\n",
    "# Initialize a list to store the evaluation results\n",
    "evaluation_results = []\n",
    "\n",
    "# Iterate over the K folds\n",
    "for train_index, val_index in kf.split(features):\n",
    "    # Split the data into training and validation sets\n",
    "    X_train, X_val = features[train_index], features[val_index]\n",
    "    y_train, y_val = targets[train_index], targets[val_index]\n",
    "\n",
    "    # Define and compile your TensorFlow model\n",
    "    model = tf.keras.Sequential([\n",
    "        tf.keras.layers.Dense(64, activation='relu', input_shape=(5,)),\n",
    "        tf.keras.layers.Dense(1)\n",
    "    ])\n",
    "    model.compile(optimizer='adam', loss='mse')\n",
    "\n",
    "    # Train the model on the training set\n",
    "    model.fit(X_train, y_train, epochs=10, batch_size=32, verbose=0)\n",
    "\n",
    "    # Evaluate the model on the validation set\n",
    "                                                evaluation = model.evaluate(X_val, y_val)\n",
    "    predictions = model.predict(X_val)\n",
    "    mpe = np.mean((y_val - predictions) / y_val) * 100\n",
    "    \n",
    "    evaluation_results.append((evaluation,mpe))\n",
    "\n",
    "# Print the evaluation results for each fold\n",
    "for fold, evaluation in enumerate(evaluation_results):\n",
    "    print(f\"Fold {fold+1} evaluation: {evaluation}\")\n"
   ]
  }
 ],
 "metadata": {
  "kernelspec": {
   "display_name": "Python 3 (ipykernel)",
   "language": "python",
   "name": "python3"
  },
  "language_info": {
   "codemirror_mode": {
    "name": "ipython",
    "version": 3
   },
   "file_extension": ".py",
   "mimetype": "text/x-python",
   "name": "python",
   "nbconvert_exporter": "python",
   "pygments_lexer": "ipython3",
   "version": "3.10.6"
  }
 },
 "nbformat": 4,
 "nbformat_minor": 5
}
