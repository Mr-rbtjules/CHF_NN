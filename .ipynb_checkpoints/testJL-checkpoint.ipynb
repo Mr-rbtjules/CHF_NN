{
 "cells": [
  {
   "cell_type": "code",
   "execution_count": 332,
   "id": "7634f407-904b-4515-b16e-297bf12f240d",
   "metadata": {},
   "outputs": [],
   "source": [
    "import tensorflow as tf\n",
    "import pandas as pd\n",
    "from tensorflow.keras.models import Sequential #regroupement de layer formant le modele\n",
    "#dense == tensor ou layer ou ensemble de neurons d'un mm niveau \n",
    " \n",
    "from tensorflow.keras.layers import Dense, Dropout, BatchNormalization, LeakyReLU, Activation #layer instance\n",
    "\n",
    "#import la fct elu pour pouvoir gerer HP alpha\n",
    "from tensorflow.keras.activations import relu, sigmoid\n",
    "from tensorflow.keras.losses import MeanSquaredLogarithmicError, MeanAbsolutePercentageError\n",
    "from tensorflow.keras.optimizers import Adam\n",
    "from tensorflow.keras.callbacks import LearningRateScheduler, EarlyStopping, TensorBoard\n",
    "\n",
    "from tensorflow.keras import backend as K\n",
    "\n",
    "from sklearn.preprocessing import StandardScaler\n",
    "\n",
    "from sklearn.model_selection import train_test_split\n",
    "\n",
    "import numpy as np\n",
    "import random\n",
    "import time\n",
    "\n",
    "from src.vizu import *\n"
   ]
  },
  {
   "cell_type": "code",
   "execution_count": 333,
   "id": "63294139-7308-4b51-96e0-58bf73f1fdd1",
   "metadata": {},
   "outputs": [],
   "source": [
    "#previous test dropout = 0.5\n",
    "\n",
    "\n",
    "\n",
    "\n",
    "###HYPERPARAM###\n",
    "# type d'archi qu'on veut \n",
    "architecture = [5,39, 40, 31, 42, 1]#small\n",
    "#architecture = [5,61,51,28,39,26,2120,14,1]\n",
    "\n",
    "dropoutRate = 0.1 #0.5\n",
    "learningRate = 0.01  #peut etre augmenter car batchnormalisation # ou peut etre plus vite decroitre\n",
    "expDecay = 0.96\n",
    "rythm = 32\n",
    "testPercent = 0.2\n",
    "maxEpochs = 100#pas trop important car peut de chance d'overfitt\n",
    "thresholdActi = 0\n",
    "#! >=0  = pente pour tt x en dessous de thresold\n",
    "alphaActi = 0 # 0.1 15% 0.3 25%S  ,36% pr 0.15\n",
    "clipGrad = 1\n",
    "\n",
    "\n",
    "seed_pre_shuffle = 50 #for numpy\n",
    "seed_split = 40\n",
    "seed_tf = 60\n",
    "seed_python = 30\n",
    "seed_numpy = 70\n",
    "seed_ss = 90\n",
    "\n",
    "seed_nb = 3\n",
    "\n",
    "seed_pre_shuffle += seed_nb\n",
    "seed_split += seed_nb\n",
    "seed_tf += seed_nb\n",
    "seed_python += seed_nb\n",
    "seed_numpy += seed_nb\n",
    "seed_ss += seed_nb\n",
    "\n",
    "\n",
    "loss_function = MeanSquaredLogarithmicError()\n",
    "\n",
    "\n",
    "def nrmse(y_true, y_pred):\n",
    "    return K.sqrt(K.mean(K.square(y_pred - y_true)))/K.mean(y_true)\n",
    "\n",
    "other_metrics = ['mape', nrmse]\n",
    "\n",
    "monitorParam = 'loss'\n",
    "loss_delta_stop = 0.0001\n",
    "batchSize = 32 #pt 16\n"
   ]
  },
  {
   "cell_type": "code",
   "execution_count": 334,
   "id": "7c0cc78e-4960-4e82-915e-20580b6a66a2",
   "metadata": {},
   "outputs": [],
   "source": [
    "###ACTIVATION###\n",
    "\n",
    "actMethod = relu\n",
    "#actMethod = LeakyReLU(alpha=alphaActi)\n",
    "#actMethod = sigmoid"
   ]
  },
  {
   "cell_type": "code",
   "execution_count": 335,
   "id": "abd73083-805f-4328-99d3-c90144bb4ac1",
   "metadata": {},
   "outputs": [],
   "source": [
    "###PREP TENSOR BOARD###\n",
    "\n",
    "NAME = \"CHF_hp_test_seed_{}_{}\".format(seed_nb,int(time.time()))\n",
    "#pour avoir un resumé sur tensorboard\n",
    "log_dir = \"../logs/{}\".format(NAME)  # Specify the directory where logs will be stored\n",
    "tb = TensorBoard(log_dir=log_dir, histogram_freq=1)\n",
    "\n",
    "#tensorboard --logdir logs/\n"
   ]
  },
  {
   "cell_type": "code",
   "execution_count": 336,
   "id": "e4b281e9-4a97-42a8-b69d-03756dcf9ed8",
   "metadata": {},
   "outputs": [],
   "source": [
    "###SEED###\n",
    "\n",
    "#seed for weights and all\n",
    "tf.random.set_seed(seed_tf)\n",
    "\n",
    "#seed for data shuffle\n",
    "np.random.seed(seed_numpy)\n",
    "\n",
    "#python seed to be sure\n",
    "random.seed(seed_python)"
   ]
  },
  {
   "cell_type": "code",
   "execution_count": 337,
   "id": "c82c0a35-87a0-4acf-b6fa-ada0ccbc2fff",
   "metadata": {},
   "outputs": [],
   "source": [
    "###LOAD DATA###\n",
    "\n",
    "data = pd.read_csv('./src/sort.csv') \n",
    "\n",
    "#print(data)\n",
    "\n",
    "\n",
    "### Stratified Sampling###\n",
    "\n",
    "\n",
    "#print('value counts',data['CHF'].value_counts(normalize=True)) #renvoie chaque valeurs de CHF diff avec la proportion\n",
    "\n",
    "validation_data = data.groupby('CHF').apply(\n",
    "    lambda x: x.sample(frac=testPercent, random_state=seed_ss)\n",
    ").droplevel(0).sample(frac=1, random_state=seed_pre_shuffle)\n",
    "\n",
    "\n",
    "\n",
    "#print(validation_data.loc[[4]]) #-> localiser sur base du label index et iloc si on veut la i eme ligne \n",
    "\n",
    "training_data = data.drop(\n",
    "    validation_data.index\n",
    ").sample(frac=1, random_state=seed_pre_shuffle)\n",
    "\n",
    "\n",
    "\n",
    "\n",
    "\n",
    "\n",
    "X_train = training_data.iloc[:, 1:6].values #inputs\n",
    "y_train = training_data.iloc[:, 7].values #target outputs\n",
    "\n",
    "X_val = validation_data.iloc[:, 1:6].values\n",
    "y_val = validation_data.iloc[:, 7].values\n",
    "\n",
    "# normalisation std  only training features\n",
    "scaler = StandardScaler()\n",
    "X_train = scaler.fit_transform(X_train)\n",
    "\n",
    "#then use the normalisation of the first set\n",
    "X_val = scaler.transform(X_val)\n",
    "\n",
    "\n",
    "##import to save bc use it when want to predict\n",
    "#mean_value = scaler.mean_\n",
    "#std_deviation = scaler.scale_\n",
    "\n",
    "\n",
    "#new_data = scaler.transform(new_data) to the input for prediction\n",
    "\n",
    "\n"
   ]
  },
  {
   "cell_type": "code",
   "execution_count": 338,
   "id": "c15ce130-4b39-47c7-a54f-181d2c1d8469",
   "metadata": {},
   "outputs": [],
   "source": [
    "###INIT MODEL###\n",
    "\n",
    "\n",
    "model = Sequential()\n",
    "# Add the layers\n",
    "\n",
    "for layer, neurons in enumerate(architecture[1:]):\n",
    "    \n",
    "    if layer == 0:\n",
    "        model.add(Dense(neurons, input_shape=(architecture[0],)))\n",
    "    else:\n",
    "        model.add(Dense(neurons))\n",
    "    model.add(Activation(actMethod))\n",
    "    if  layer != len(architecture[1:]) - 1 :#and layer != len(architecture[1:]) - 2 :\n",
    "        model.add(BatchNormalization())\n",
    "        \n",
    "    if layer == 0 or layer == 1:\n",
    "        model.add(Dropout(dropoutRate))\n",
    "    \n",
    "    \n",
    "\n",
    "\n",
    "\n",
    "model.compile(optimizer=Adam(learning_rate=learningRate), \n",
    "              loss=loss_function, metrics=other_metrics)\n",
    "\n",
    "\n",
    "###Vizualisation###\n",
    "\n",
    "#from keras.utils.vis_utils import plot_model\n",
    "#plot_model(model, to_file='model_plot.png', show_shapes=True, show_layer_names=True)\n",
    "\n",
    "#visualize_nn(model, description=True, figsize=(100,100))#prend qq secondes + enregistre\n"
   ]
  },
  {
   "cell_type": "code",
   "execution_count": 339,
   "id": "de9423c1-60fe-425f-bf67-83d69f538cca",
   "metadata": {},
   "outputs": [],
   "source": [
    "###CALLBACKS###\n",
    "\n",
    "#== modification/monitoring durant l'entrainement\n",
    "#on stop qd plus de chgmt apres 50 epoch\n",
    "early_stop = EarlyStopping(monitor=monitorParam,          #mieux de monitorer la loss car moins variable \n",
    "                           min_delta=loss_delta_stop,             #if nothing precise, it will check loss and stop after no change of >=0.1\n",
    "                           patience=50, verbose=1,\n",
    "                           restore_best_weights=True) #when stop ensure we keep best perf\n",
    "\n",
    "# tt les 32 epochs lr perd 4%\n",
    "#schedule == function to give to LearningScheduler, with epoch and lr as param\n",
    "def lr_scheduler(epoch, lr):          #to modify and/or add to HP   \n",
    "    if epoch % rythm == 0 and epoch > 0:\n",
    "        return lr * expDecay\n",
    "    return lr\n",
    "\n",
    "learningRateScheduler = LearningRateScheduler(lr_scheduler)\n",
    "\n"
   ]
  },
  {
   "cell_type": "code",
   "execution_count": null,
   "id": "ea027075-c1bb-42ea-b355-d2c2aebef925",
   "metadata": {
    "scrolled": true
   },
   "outputs": [
    {
     "name": "stdout",
     "output_type": "stream",
     "text": [
      "Epoch 1/100\n",
      "618/618 [==============================] - 6s 6ms/step - loss: 91.9031 - mape: 99.9799 - nrmse: 1.2982 - val_loss: 71.0815 - val_mape: 99.9514 - val_nrmse: 1.1957 - lr: 0.0100\n",
      "Epoch 2/100\n",
      "618/618 [==============================] - 3s 5ms/step - loss: 59.5942 - mape: 99.9200 - nrmse: 1.2979 - val_loss: 52.0332 - val_mape: 99.8926 - val_nrmse: 1.1953 - lr: 0.0100\n",
      "Epoch 3/100\n",
      "618/618 [==============================] - 3s 5ms/step - loss: 45.8305 - mape: 99.8317 - nrmse: 1.2976 - val_loss: 41.8228 - val_mape: 99.7734 - val_nrmse: 1.1947 - lr: 0.0100\n",
      "Epoch 4/100\n",
      "618/618 [==============================] - 3s 5ms/step - loss: 38.7422 - mape: 99.7207 - nrmse: 1.2970 - val_loss: 36.0915 - val_mape: 99.6420 - val_nrmse: 1.1940 - lr: 0.0100\n",
      "Epoch 5/100\n",
      "618/618 [==============================] - 3s 5ms/step - loss: 33.7202 - mape: 99.5785 - nrmse: 1.2964 - val_loss: 31.5515 - val_mape: 99.4756 - val_nrmse: 1.1930 - lr: 0.0100\n",
      "Epoch 6/100\n",
      "618/618 [==============================] - 3s 5ms/step - loss: 29.7282 - mape: 99.4004 - nrmse: 1.2955 - val_loss: 28.1593 - val_mape: 99.2711 - val_nrmse: 1.1918 - lr: 0.0100\n",
      "Epoch 7/100\n",
      "618/618 [==============================] - 3s 5ms/step - loss: 26.3968 - mape: 99.1787 - nrmse: 1.2945 - val_loss: 24.4102 - val_mape: 99.0117 - val_nrmse: 1.1904 - lr: 0.0100\n",
      "Epoch 8/100\n",
      "618/618 [==============================] - 3s 5ms/step - loss: 23.5326 - mape: 98.9019 - nrmse: 1.2932 - val_loss: 22.4222 - val_mape: 98.7003 - val_nrmse: 1.1886 - lr: 0.0100\n",
      "Epoch 9/100\n",
      "618/618 [==============================] - 3s 5ms/step - loss: 21.0216 - mape: 98.5628 - nrmse: 1.2916 - val_loss: 19.8022 - val_mape: 98.3118 - val_nrmse: 1.1864 - lr: 0.0100\n",
      "Epoch 10/100\n",
      "618/618 [==============================] - 3s 5ms/step - loss: 18.7915 - mape: 98.1515 - nrmse: 1.2897 - val_loss: 17.5280 - val_mape: 97.8417 - val_nrmse: 1.1837 - lr: 0.0100\n",
      "Epoch 11/100\n",
      "618/618 [==============================] - 3s 5ms/step - loss: 16.7967 - mape: 97.6574 - nrmse: 1.2873 - val_loss: 15.6412 - val_mape: 97.2878 - val_nrmse: 1.1805 - lr: 0.0100\n",
      "Epoch 12/100\n",
      "618/618 [==============================] - 3s 5ms/step - loss: 15.0051 - mape: 97.0679 - nrmse: 1.2845 - val_loss: 13.9853 - val_mape: 96.6136 - val_nrmse: 1.1766 - lr: 0.0100\n",
      "Epoch 13/100\n",
      "618/618 [==============================] - 3s 5ms/step - loss: 13.3942 - mape: 96.3685 - nrmse: 1.2811 - val_loss: 12.5411 - val_mape: 95.8393 - val_nrmse: 1.1720 - lr: 0.0100\n",
      "Epoch 14/100\n",
      "618/618 [==============================] - 3s 5ms/step - loss: 11.9441 - mape: 95.5541 - nrmse: 1.2771 - val_loss: 11.2964 - val_mape: 94.9405 - val_nrmse: 1.1666 - lr: 0.0100\n",
      "Epoch 15/100\n",
      "618/618 [==============================] - 3s 5ms/step - loss: 10.6386 - mape: 94.6197 - nrmse: 1.2723 - val_loss: 9.8823 - val_mape: 93.8258 - val_nrmse: 1.1598 - lr: 0.0100\n",
      "Epoch 16/100\n",
      "618/618 [==============================] - 3s 5ms/step - loss: 9.4660 - mape: 93.5607 - nrmse: 1.2668 - val_loss: 8.7671 - val_mape: 92.7676 - val_nrmse: 1.1527 - lr: 0.0100\n",
      "Epoch 17/100\n",
      "618/618 [==============================] - 3s 5ms/step - loss: 8.4134 - mape: 92.3755 - nrmse: 1.2603 - val_loss: 8.1047 - val_mape: 91.5487 - val_nrmse: 1.1449 - lr: 0.0100\n",
      "Epoch 18/100\n",
      "618/618 [==============================] - 3s 5ms/step - loss: 7.4727 - mape: 91.0354 - nrmse: 1.2530 - val_loss: 6.6845 - val_mape: 89.8336 - val_nrmse: 1.1347 - lr: 0.0100\n",
      "Epoch 19/100\n",
      "618/618 [==============================] - 3s 5ms/step - loss: 6.6324 - mape: 89.5491 - nrmse: 1.2447 - val_loss: 6.0867 - val_mape: 88.3332 - val_nrmse: 1.1236 - lr: 0.0100\n",
      "Epoch 20/100\n",
      "618/618 [==============================] - 3s 5ms/step - loss: 5.8798 - mape: 87.9544 - nrmse: 1.2353 - val_loss: 5.1100 - val_mape: 86.6105 - val_nrmse: 1.1121 - lr: 0.0100\n",
      "Epoch 21/100\n",
      "618/618 [==============================] - 3s 5ms/step - loss: 5.2097 - mape: 86.2109 - nrmse: 1.2248 - val_loss: 4.5483 - val_mape: 85.1199 - val_nrmse: 1.0987 - lr: 0.0100\n",
      "Epoch 22/100\n",
      "618/618 [==============================] - 3s 5ms/step - loss: 4.6123 - mape: 84.3499 - nrmse: 1.2133 - val_loss: 3.9330 - val_mape: 82.9815 - val_nrmse: 1.0842 - lr: 0.0100\n",
      "Epoch 23/100\n",
      "618/618 [==============================] - 3s 5ms/step - loss: 4.0820 - mape: 82.3415 - nrmse: 1.2006 - val_loss: 3.2728 - val_mape: 79.4808 - val_nrmse: 1.0623 - lr: 0.0100\n",
      "Epoch 24/100\n",
      "618/618 [==============================] - 3s 5ms/step - loss: 3.6079 - mape: 80.2213 - nrmse: 1.1868 - val_loss: 3.8049 - val_mape: 78.8216 - val_nrmse: 1.0517 - lr: 0.0100\n",
      "Epoch 25/100\n",
      "618/618 [==============================] - 3s 5ms/step - loss: 3.1846 - mape: 78.0082 - nrmse: 1.1718 - val_loss: 2.5945 - val_mape: 75.9566 - val_nrmse: 1.0281 - lr: 0.0100\n",
      "Epoch 26/100\n",
      "618/618 [==============================] - 3s 5ms/step - loss: 2.8084 - mape: 75.6747 - nrmse: 1.1556 - val_loss: 2.2657 - val_mape: 72.6261 - val_nrmse: 1.0100 - lr: 0.0100\n",
      "Epoch 27/100\n",
      "618/618 [==============================] - 3s 6ms/step - loss: 2.4733 - mape: 73.2147 - nrmse: 1.1383 - val_loss: 2.0422 - val_mape: 71.0037 - val_nrmse: 0.9931 - lr: 0.0100\n",
      "Epoch 28/100\n",
      "618/618 [==============================] - 4s 6ms/step - loss: 2.1750 - mape: 70.6901 - nrmse: 1.1199 - val_loss: 1.7282 - val_mape: 68.1557 - val_nrmse: 0.9648 - lr: 0.0100\n",
      "Epoch 29/100\n",
      "618/618 [==============================] - 3s 5ms/step - loss: 1.9098 - mape: 68.0588 - nrmse: 1.1004 - val_loss: 1.5607 - val_mape: 65.8800 - val_nrmse: 0.9471 - lr: 0.0100\n",
      "Epoch 30/100\n",
      "618/618 [==============================] - 3s 5ms/step - loss: 1.6762 - mape: 65.3851 - nrmse: 1.0798 - val_loss: 1.3799 - val_mape: 62.0800 - val_nrmse: 0.9167 - lr: 0.0100\n",
      "Epoch 31/100\n",
      "618/618 [==============================] - 3s 5ms/step - loss: 1.4673 - mape: 62.6232 - nrmse: 1.0582 - val_loss: 1.0992 - val_mape: 58.1202 - val_nrmse: 0.8893 - lr: 0.0100\n",
      "Epoch 32/100\n",
      "618/618 [==============================] - 3s 5ms/step - loss: 1.2815 - mape: 59.8831 - nrmse: 1.0356 - val_loss: 0.9887 - val_mape: 56.5169 - val_nrmse: 0.8690 - lr: 0.0100\n",
      "Epoch 33/100\n",
      "618/618 [==============================] - 3s 5ms/step - loss: 1.1199 - mape: 57.0426 - nrmse: 1.0125 - val_loss: 0.7823 - val_mape: 51.0951 - val_nrmse: 0.8302 - lr: 0.0096\n",
      "Epoch 34/100\n",
      "618/618 [==============================] - 3s 5ms/step - loss: 0.9813 - mape: 54.4403 - nrmse: 0.9889 - val_loss: 0.7118 - val_mape: 49.9606 - val_nrmse: 0.8075 - lr: 0.0096\n",
      "Epoch 35/100\n",
      "618/618 [==============================] - 3s 5ms/step - loss: 0.8592 - mape: 51.9203 - nrmse: 0.9646 - val_loss: 0.6153 - val_mape: 47.0367 - val_nrmse: 0.7828 - lr: 0.0096\n",
      "Epoch 36/100\n",
      "618/618 [==============================] - 3s 5ms/step - loss: 0.7474 - mape: 49.0333 - nrmse: 0.9397 - val_loss: 0.5355 - val_mape: 43.1159 - val_nrmse: 0.7432 - lr: 0.0096\n",
      "Epoch 37/100\n",
      "618/618 [==============================] - 3s 5ms/step - loss: 0.6504 - mape: 46.3974 - nrmse: 0.9139 - val_loss: 0.4509 - val_mape: 40.7307 - val_nrmse: 0.7097 - lr: 0.0096\n",
      "Epoch 38/100\n",
      "618/618 [==============================] - 3s 5ms/step - loss: 0.5685 - mape: 44.0979 - nrmse: 0.8878 - val_loss: 0.3611 - val_mape: 37.5789 - val_nrmse: 0.6863 - lr: 0.0096\n",
      "Epoch 39/100\n",
      "276/618 [============>.................] - ETA: 1s - loss: 0.5209 - mape: 43.0022 - nrmse: 0.8562"
     ]
    }
   ],
   "source": [
    "###TRAINING###\n",
    "\n",
    "#a partir d'ici que les weigghts sont crée \n",
    "history = model.fit(X_train, y_train,\n",
    "                    shuffle=False,                  #comme ça on le fait ns mm avec une seed\n",
    "                    validation_data=(X_val,y_val),\n",
    "                    batch_size=batchSize, epochs=maxEpochs,\n",
    "                    callbacks=[early_stop, learningRateScheduler, tb], #mpa_callback\n",
    "                    verbose=1)                                    #progress bar\n",
    "\n",
    "# resumé\n",
    "\n",
    "model.summary()"
   ]
  },
  {
   "cell_type": "code",
   "execution_count": 328,
   "id": "851a98f5-3349-42e5-8ffa-42e2255725df",
   "metadata": {},
   "outputs": [
    {
     "data": {
      "text/plain": [
       "'\\nhistory2 = model.fit(X_train, y_train,\\n                    shuffle=False,                  #comme ça on le fait ns mm avec une seed\\n                    validation_data=(X_val,y_val),\\n                    batch_size=batchSize, epochs=(maxEpochs+5),\\n                    callbacks=[early_stop, learningRateScheduler, tb], #mpa_callback\\n                    verbose=1)                                    #progress bar\\n\\n# resumé\\n\\nmodel.summary()\\n'"
      ]
     },
     "execution_count": 328,
     "metadata": {},
     "output_type": "execute_result"
    }
   ],
   "source": [
    "\n",
    "\"\"\"\n",
    "history2 = model.fit(X_train, y_train,\n",
    "                    shuffle=False,                  #comme ça on le fait ns mm avec une seed\n",
    "                    validation_data=(X_val,y_val),\n",
    "                    batch_size=batchSize, epochs=(maxEpochs+5),\n",
    "                    callbacks=[early_stop, learningRateScheduler, tb], #mpa_callback\n",
    "                    verbose=1)                                    #progress bar\n",
    "\n",
    "# resumé\n",
    "\n",
    "model.summary()\n",
    "\"\"\""
   ]
  },
  {
   "cell_type": "code",
   "execution_count": 329,
   "id": "25ad5791-566a-4d53-82e9-fd54246f9882",
   "metadata": {},
   "outputs": [
    {
     "name": "stdout",
     "output_type": "stream",
     "text": [
      "loss\n"
     ]
    },
    {
     "data": {
      "image/png": "[encoded data removed]",
      "text/plain": [
       "<Figure size 640x480 with 1 Axes>"
      ]
     },
     "metadata": {},
     "output_type": "display_data"
    },
    {
     "name": "stdout",
     "output_type": "stream",
     "text": [
      "CHF_hp_test_seed_3_1689111346\n"
     ]
    }
   ],
   "source": [
    "###PLOT PERFORMANCE###\n",
    "print(monitorParam)\n",
    "import matplotlib.pyplot as plt\n",
    "\n",
    "# Get the loss history from the model training\n",
    "training_loss = history.history['loss']\n",
    "validation_loss = history.history['val_loss']\n",
    "\n",
    "# Plot the loss curves\n",
    "epochs = range(1, len(training_loss) + 1)\n",
    "plt.semilogy(epochs, training_loss, 'b-', label='Training Loss')\n",
    "plt.semilogy(epochs, validation_loss, 'r-', label='Validation Loss')\n",
    "plt.xlabel('Epochs')\n",
    "plt.ylabel('Loss')\n",
    "plt.legend()\n",
    "plt.xticks(rotation=45)\n",
    "\n",
    "\n",
    "\n",
    "#plt.savefig('loss_plot1.png')\n",
    "\n",
    "plt.show()\n",
    "print(NAME)"
   ]
  },
  {
   "cell_type": "code",
   "execution_count": 330,
   "id": "82a04199-adb1-4531-bf6f-4de5bfb0a68b",
   "metadata": {},
   "outputs": [
    {
     "name": "stdout",
     "output_type": "stream",
     "text": [
      "132/132 [==============================] - 0s 2ms/step\n",
      "pourcentage moyen d'erreur relative final  :  66.3456979798402\n",
      "mean : 1.4467127473855703 std : 1.4342417199450885\n",
      "NRMSE: 0.13199330162539044\n"
     ]
    }
   ],
   "source": [
    "predictions = model.predict(X_val)\n",
    "\n",
    "\n",
    "mpe = np.mean(np.abs(y_val - predictions) / np.mean(y_val)) * 100\n",
    "print(\"pourcentage moyen d'erreur relative final  : \", mpe)\n",
    "\n",
    "m = np.mean(y_val/predictions)\n",
    "std = np.std(y_val/predictions)\n",
    "print(\"mean :\",m,\"std :\", std)\n",
    "\n",
    "\n",
    "nrmse = np.sqrt(np.mean(np.square(predictions - y_val))) / (np.max(y_val) - np.min(y_val))\n",
    "\n",
    "print(\"NRMSE:\", nrmse)\n",
    "\n",
    "\n",
    "\n",
    "\n",
    "\n"
   ]
  },
  {
   "cell_type": "code",
   "execution_count": 331,
   "id": "d24b2b3b-2cb2-48f3-8986-dcf272fcfca2",
   "metadata": {},
   "outputs": [
    {
     "data": {
      "image/png": "[encoded data removed]",
      "text/plain": [
       "<Figure size 640x480 with 1 Axes>"
      ]
     },
     "metadata": {},
     "output_type": "display_data"
    }
   ],
   "source": [
    "\"\"\"\n",
    "132/132 [==============================] - 0s 2ms/step\n",
    "pourcentage moyen d'erreur relative final  :  111.95521708138143\n",
    "mean : 1.5724916047645745 std : 1.839459101719324\n",
    "NRMSE: 0.13987278727251576\n",
    "\"\"\"\n",
    "\n",
    "\n",
    "plt.figure()\n",
    "\n",
    "plt.plot(y_val, predictions, '.r', label='')\n",
    "plt.plot(y_val, y_val, 'b-', label='y=x')\n",
    "plt.xlabel('Measured')\n",
    "plt.ylabel('Predicted')\n",
    "plt.title('Predicted vs Measured')\n",
    "#plt.savefig('test_strat100epoch.png')\n",
    "plt.show()"
   ]
  },
  {
   "cell_type": "code",
   "execution_count": 102,
   "id": "6e2616cf-e28d-4034-9647-2035f21c442c",
   "metadata": {},
   "outputs": [
    {
     "name": "stdout",
     "output_type": "stream",
     "text": [
      "[1880000.  564000. 1700300. ... 3946000. 1035000.  823000.]\n",
      "[[1927570.6 ]\n",
      " [ 690476.6 ]\n",
      " [1580728.8 ]\n",
      " ...\n",
      " [3147043.8 ]\n",
      " [ 969497.06]\n",
      " [ 856896.7 ]]\n"
     ]
    }
   ],
   "source": [
    "print(y_val)\n",
    "print(predictions)"
   ]
  }
 ],
 "metadata": {
  "kernelspec": {
   "display_name": "Python 3 (ipykernel)",
   "language": "python",
   "name": "python3"
  },
  "language_info": {
   "codemirror_mode": {
    "name": "ipython",
    "version": 3
   },
   "file_extension": ".py",
   "mimetype": "text/x-python",
   "name": "python",
   "nbconvert_exporter": "python",
   "pygments_lexer": "ipython3",
   "version": "3.10.6"
  }
 },
 "nbformat": 4,
 "nbformat_minor": 5
}
