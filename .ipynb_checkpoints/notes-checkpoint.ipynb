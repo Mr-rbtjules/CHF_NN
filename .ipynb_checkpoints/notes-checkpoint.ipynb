{
 "cells": [
  {
   "cell_type": "code",
   "execution_count": null,
   "id": "410f67be-cc50-4e14-bca6-f80f5625728a",
   "metadata": {},
   "outputs": [],
   "source": [
    "stratified sampling ~ distrib of the output\n",
    "pour representer bien tt les regions d'output possible\n",
    "tabula-py pour chopper csv depuis pdf\n",
    "\n",
    "\n"
   ]
  },
  {
   "cell_type": "code",
   "execution_count": null,
   "id": "23752704-4cbb-4957-80f7-9ae223f41066",
   "metadata": {},
   "outputs": [],
   "source": [
    "check draw architect"
   ]
  },
  {
   "cell_type": "code",
   "execution_count": null,
   "id": "62eb3c4e-ac4b-41ac-bf79-52cdba51d442",
   "metadata": {},
   "outputs": [],
   "source": [
    "mohammad.khodery@Tractebel.engie.com"
   ]
  },
  {
   "cell_type": "code",
   "execution_count": null,
   "id": "78a9677a-6bf9-4abb-bf61-d39f88d6a019",
   "metadata": {},
   "outputs": [],
   "source": [
    "tester sans et avec normalization de la target\n",
    "tester avec et sans batchnorm au dernier layer\n",
    "ajouter table-py\n",
    "trier chf pt trop peu de grandes valeurs pas possible d'entrainer"
   ]
  },
  {
   "cell_type": "code",
   "execution_count": null,
   "id": "075998d6-699c-41b4-aaa8-f1580520fdee",
   "metadata": {},
   "outputs": [],
   "source": [
    "avec batch wtf on a un meilleur mpe et std mais une coubre de merde et pas si bon mpae"
   ]
  },
  {
   "cell_type": "code",
   "execution_count": null,
   "id": "41064d38-70e5-4142-be35-3c954d94accb",
   "metadata": {},
   "outputs": [],
   "source": [
    "DEMAIN !!! etude des erreurs"
   ]
  }
 ],
 "metadata": {
  "kernelspec": {
   "display_name": "Python 3 (ipykernel)",
   "language": "python",
   "name": "python3"
  },
  "language_info": {
   "codemirror_mode": {
    "name": "ipython",
    "version": 3
   },
   "file_extension": ".py",
   "mimetype": "text/x-python",
   "name": "python",
   "nbconvert_exporter": "python",
   "pygments_lexer": "ipython3",
   "version": "3.10.6"
  }
 },
 "nbformat": 4,
 "nbformat_minor": 5
}
