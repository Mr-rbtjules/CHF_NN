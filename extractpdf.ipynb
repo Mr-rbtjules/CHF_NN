{
 "cells": [
  {
   "cell_type": "code",
   "execution_count": 190,
   "id": "141f0f86-404e-481d-9bb0-c1a85a00b933",
   "metadata": {},
   "outputs": [],
   "source": [
    "import pandas as pd\n",
    "import tabula as tb\n",
    "import numpy as np\n",
    "\n",
    "\n",
    "all = tb.read_pdf(\"./LUT.pdf\", pages='all')\n",
    "\n"
   ]
  },
  {
   "cell_type": "code",
   "execution_count": 200,
   "id": "f24d16ad-f420-4890-8981-11d0526a0fb6",
   "metadata": {},
   "outputs": [],
   "source": [
    "#initiation du dataframe final avec tt les valeurs\n",
    "\n",
    "##fait la premiere page\n",
    "#retire unités\n",
    "df = all[0].drop(0)\n",
    "#retire colonnes inutiles\n",
    "del df['Number']\n",
    "del df['Data']\n",
    "del df['Reference']\n",
    "\n",
    "\n",
    "#colonnes d'interet\n",
    "columns = ['D', 'L', 'P', 'G','Xchf', 'DHin', 'CHF', 'Tin']\n",
    "for col in columns:\n",
    "    df[col] = df[col].astype(float)\n",
    "\n",
    "\n",
    "\n",
    "for page in range(1,len(all)):\n",
    "    #si manque 1 header on prend pas\n",
    "    if len(all[page].keys()) < 11:\n",
    "        pass\n",
    "    else:\n",
    "        #commence par enlever les infos du faux header\n",
    "        header = all[page].keys()\n",
    "        \n",
    "            \n",
    "        first_row = [[]]\n",
    "        for i in header[2:10]:\n",
    "            if i[-2:] == ' 0':\n",
    "                i = i[:-2]\n",
    "            first_row[0].append(float(i))\n",
    "        rest = all[page].iloc[:,2:10].values\n",
    "        for i in range(len(rest)):\n",
    "            for j in range(len(rest[i])):\n",
    "                if type(rest[i][j]) == str:\n",
    "                    if rest[i][j][-2:] == ' 0':\n",
    "                        rest[i][j] = rest[i][j][:-2]\n",
    "                    rest[i][j] = float(rest[i][j])\n",
    "        np_data_page = np.concatenate((first_row, rest))\n",
    "        \n",
    "        small_df = pd.DataFrame(np_data_page, columns =columns)\n",
    "\n",
    "\n",
    "        df = pd.concat([df,small_df], ignore_index=True)\n",
    "\n",
    "        \n",
    "\n",
    "\n",
    "#print(df.iloc[0].values)\n",
    "        #prend le header et et cree un data frame avec\n",
    "            #ajoute tt les autres elem ligne par ligne\n",
    "        #concat au tot\n"
   ]
  },
  {
   "cell_type": "code",
   "execution_count": 209,
   "id": "fbc078dc-7f2e-41c9-bc12-28222fdddca8",
   "metadata": {},
   "outputs": [
    {
     "name": "stdout",
     "output_type": "stream",
     "text": [
      "           D      L        P       G    Xchf     DHin     CHF     Tin\n",
      "0      0.004  0.396    100.0    77.5    0.84    317.0   442.0   23.94\n",
      "1      0.004  0.396    100.0   142.7    0.79    317.0   757.0   23.94\n",
      "2      0.004  0.396    100.0   203.9     0.7    317.0   978.0   23.94\n",
      "3      0.004  0.396    100.0   271.8    0.73    317.0  1325.0   23.94\n",
      "4      0.004  0.396    100.0   421.3    0.62    317.0  1798.0   23.94\n",
      "...      ...    ...      ...     ...     ...      ...     ...     ...\n",
      "24571  0.008    1.0  14808.0  1775.7  0.1832  123.858  1111.4  321.93\n",
      "24572  0.008    1.0  14727.0   600.9  0.3532  323.342   819.5  289.89\n",
      "24573  0.008    1.0  14727.0   608.0  0.4002  378.265   954.1  279.39\n",
      "24574  0.008    1.0  14727.0   571.5  0.3839  570.264  1097.4  239.94\n",
      "24575  0.008    1.0  14727.0   579.4  0.4044  587.056  1156.1  236.31\n",
      "\n",
      "[24576 rows x 8 columns]\n"
     ]
    }
   ],
   "source": [
    "print(df)"
   ]
  },
  {
   "cell_type": "code",
   "execution_count": 210,
   "id": "7be2c038-a7d5-44bd-920f-2ca393660c59",
   "metadata": {},
   "outputs": [],
   "source": [
    "#save\n",
    "df.to_csv('./csv_files/original_data.csv', index=False)"
   ]
  },
  {
   "cell_type": "code",
   "execution_count": 211,
   "id": "5e7d0d8d-e90d-4e73-be62-eb69f9aa5704",
   "metadata": {},
   "outputs": [
    {
     "name": "stdout",
     "output_type": "stream",
     "text": [
      "           D      L        P       G    Xchf     DHin     CHF     Tin\n",
      "0      0.004  0.396    100.0    77.5  0.8400  317.000   442.0   23.94\n",
      "1      0.004  0.396    100.0   142.7  0.7900  317.000   757.0   23.94\n",
      "2      0.004  0.396    100.0   203.9  0.7000  317.000   978.0   23.94\n",
      "3      0.004  0.396    100.0   271.8  0.7300  317.000  1325.0   23.94\n",
      "4      0.004  0.396    100.0   421.3  0.6200  317.000  1798.0   23.94\n",
      "...      ...    ...      ...     ...     ...      ...     ...     ...\n",
      "24571  0.008  1.000  14808.0  1775.7  0.1832  123.858  1111.4  321.93\n",
      "24572  0.008  1.000  14727.0   600.9  0.3532  323.342   819.5  289.89\n",
      "24573  0.008  1.000  14727.0   608.0  0.4002  378.265   954.1  279.39\n",
      "24574  0.008  1.000  14727.0   571.5  0.3839  570.264  1097.4  239.94\n",
      "24575  0.008  1.000  14727.0   579.4  0.4044  587.056  1156.1  236.31\n",
      "\n",
      "[24576 rows x 8 columns]\n"
     ]
    }
   ],
   "source": [
    "sort = pd.read_csv('./csv_files/original_data.csv')\n",
    "print(sort)"
   ]
  },
  {
   "cell_type": "code",
   "execution_count": 212,
   "id": "ed237766-acc8-415b-b59b-6781377a49b9",
   "metadata": {},
   "outputs": [
    {
     "name": "stdout",
     "output_type": "stream",
     "text": [
      "           D      L           P       G    Xchf      DHin        CHF     Tin  \\\n",
      "0      0.004  0.396    100000.0    77.5  0.8400  317000.0   442000.0  297.09   \n",
      "1      0.004  0.396    100000.0   142.7  0.7900  317000.0   757000.0  297.09   \n",
      "2      0.004  0.396    100000.0   203.9  0.7000  317000.0   978000.0  297.09   \n",
      "3      0.004  0.396    100000.0   271.8  0.7300  317000.0  1325000.0  297.09   \n",
      "4      0.004  0.396    100000.0   421.3  0.6200  317000.0  1798000.0  297.09   \n",
      "...      ...    ...         ...     ...     ...       ...        ...     ...   \n",
      "24571  0.008  1.000  14808000.0  1775.7  0.1832  123858.0  1111400.0  595.08   \n",
      "24572  0.008  1.000  14727000.0   600.9  0.3532  323342.0   819500.0  563.04   \n",
      "24573  0.008  1.000  14727000.0   608.0  0.4002  378265.0   954100.0  552.54   \n",
      "24574  0.008  1.000  14727000.0   571.5  0.3839  570264.0  1097400.0  513.09   \n",
      "24575  0.008  1.000  14727000.0   579.4  0.4044  587056.0  1156100.0  509.46   \n",
      "\n",
      "         L/D  \n",
      "0       99.0  \n",
      "1       99.0  \n",
      "2       99.0  \n",
      "3       99.0  \n",
      "4       99.0  \n",
      "...      ...  \n",
      "24571  125.0  \n",
      "24572  125.0  \n",
      "24573  125.0  \n",
      "24574  125.0  \n",
      "24575  125.0  \n",
      "\n",
      "[24303 rows x 9 columns]\n"
     ]
    }
   ],
   "source": [
    "#ancienne table 3 points de plus mais tt corrupt\n",
    "\n",
    "sort['P'] = sort['P']*1000\n",
    "sort['DHin'] = sort['DHin']*1000\n",
    "sort['CHF'] = sort['CHF']*1000\n",
    "sort['Tin'] = sort['Tin'] + 273.15\n",
    "\n",
    "\n",
    "###FILTRE###\n",
    "sort = sort.loc[sort['Xchf'] < 1 ]\n",
    "sort = sort.loc[(sort['P'] <= 21000000) &  (sort['P'] >= 100000) ]\n",
    "sort = sort.loc[(sort['D'] < 0.025) &  (sort['D'] > 0.003) ]\n",
    "sort = sort.loc[(sort['G'] < 8000) &  (sort['G'] >= 0) ]\n",
    "\n",
    "sort['L/D'] = sort['L']/sort['D'] \n",
    "sort = sort.loc[ ((sort['Xchf'] > 0) & ( sort['L/D']> 50))  |  ((sort['Xchf'] < 0) & ( sort['L/D'] > 25))]\n",
    "\n",
    "\n",
    "\n",
    "print(sort)\n",
    "\n",
    "\n"
   ]
  },
  {
   "cell_type": "code",
   "execution_count": 213,
   "id": "ec2fb168-45e2-4e69-9f0f-46c0d04118b6",
   "metadata": {},
   "outputs": [],
   "source": [
    "sort.to_csv('./csv_files/sort_data.csv')"
   ]
  },
  {
   "cell_type": "code",
   "execution_count": 199,
   "id": "5c5dced9-758b-4e41-802c-50909a72fc82",
   "metadata": {},
   "outputs": [],
   "source": [
    "\n",
    "for i, j in enumerate(df['CHF'].values):\n",
    "    if j <=0:\n",
    "        print('aille')"
   ]
  }
 ],
 "metadata": {
  "kernelspec": {
   "display_name": "Python 3 (ipykernel)",
   "language": "python",
   "name": "python3"
  },
  "language_info": {
   "codemirror_mode": {
    "name": "ipython",
    "version": 3
   },
   "file_extension": ".py",
   "mimetype": "text/x-python",
   "name": "python",
   "nbconvert_exporter": "python",
   "pygments_lexer": "ipython3",
   "version": "3.10.6"
  }
 },
 "nbformat": 4,
 "nbformat_minor": 5
}
