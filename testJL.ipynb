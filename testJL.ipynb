{
 "cells": [
  {
   "cell_type": "code",
   "execution_count": 37,
   "id": "7634f407-904b-4515-b16e-297bf12f240d",
   "metadata": {},
   "outputs": [],
   "source": [
    "import tensorflow as tf\n",
    "import pandas as pd\n",
    "from tensorflow.keras.models import Sequential #regroupement de layer formant le modele\n",
    "#dense == tensor ou layer ou ensemble de neurons d'un mm niveau \n",
    " \n",
    "from tensorflow.keras.layers import Dense, Dropout, BatchNormalization #layer instance\n",
    "\n",
    "#import la fct elu pour pouvoir gerer HP alpha\n",
    "from tensorflow.keras.activations import relu\n",
    "from tensorflow.keras.losses import MeanSquaredLogarithmicError\n",
    "from tensorflow.keras.optimizers import Adam\n",
    "from tensorflow.keras.callbacks import LearningRateScheduler, EarlyStopping, TensorBoard\n",
    "from sklearn.preprocessing import StandardScaler\n",
    "\n"
   ]
  },
  {
   "cell_type": "code",
   "execution_count": 29,
   "id": "63294139-7308-4b51-96e0-58bf73f1fdd1",
   "metadata": {},
   "outputs": [],
   "source": [
    "\n",
    "###HYPERPARAM###\n",
    "# type d'archi qu'on veut \n",
    "architecture = [5, 39, 40, 31, 42, 1]#small\n",
    "#big = \"[5,61,51,28,39,26,2120,14,1]\"\n",
    "\n",
    "dropoutRate = 0.2\n",
    "learningRate = 0.001\n",
    "testPercent = 0.2\n",
    "maxEpochs = 100 #pas trop important car peut de chance d'overfitt\n",
    "thresholdActi = 0\n",
    "alphaActi = 0 #! >=0  = pente pour tt x en dessous de thresold\n",
    "clipGrad = 1\n",
    "\n",
    "### ###\n"
   ]
  },
  {
   "cell_type": "code",
   "execution_count": 30,
   "id": "c82c0a35-87a0-4acf-b6fa-ada0ccbc2fff",
   "metadata": {},
   "outputs": [],
   "source": [
    "\n",
    "# met la LUT\n",
    "train_data = pd.read_csv('./src/sort.csv') \n",
    "\n",
    "x_train = train_data.iloc[:, 1:6].values #inputs\n",
    "y_train = train_data.iloc[:, 7].values #target outputs\n",
    "\n",
    "# normalisation std\n",
    "scaler = StandardScaler()\n",
    "x_train = scaler.fit_transform(x_train)\n",
    "\n",
    "#create the model\n",
    "model = Sequential()\n"
   ]
  },
  {
   "cell_type": "code",
   "execution_count": 31,
   "id": "c15ce130-4b39-47c7-a54f-181d2c1d8469",
   "metadata": {},
   "outputs": [],
   "source": [
    "\n",
    "\n",
    "# Add the layers\n",
    "\n",
    "for layer, neurons in enumerate(architecture):\n",
    "    model.add(\n",
    "        Dense(\n",
    "            neurons, \n",
    "            activation=relu,#(alpha=alphaActi, threshold=thresholdActi), \n",
    "            input_shape=(neurons,)\n",
    "            )\n",
    "        )\n",
    "    if layer == 1 or layer == 2:\n",
    "        model.add(Dropout(dropoutRate))\n",
    "    if layer != 0 and layer != len(architecture) - 1:\n",
    "        model.add(BatchNormalization())\n",
    "\n",
    "# tt les 32 epochs lr perd 4%\n",
    "#schedule == function to give to LearningScheduler, with epoch and lr as param\n",
    "def lr_scheduler(epoch, lr):          #to modify and/or add to HP   \n",
    "    if epoch % 32 == 0 and epoch > 0:\n",
    "        return lr * 0.96\n",
    "    return lr\n",
    "\n"
   ]
  },
  {
   "cell_type": "code",
   "execution_count": 32,
   "id": "de9423c1-60fe-425f-bf67-83d69f538cca",
   "metadata": {},
   "outputs": [
    {
     "name": "stdout",
     "output_type": "stream",
     "text": [
      "100\n"
     ]
    }
   ],
   "source": [
    "model.compile(optimizer=Adam(learning_rate=learningRate), \n",
    "              loss=MeanSquaredLogarithmicError())\n",
    "\n",
    "\n",
    "#Callback == modification durant l'entrainement\n",
    "#on stop qd plus de chgmt apres 50 epoch\n",
    "early_stop = EarlyStopping(min_delta=0,             #maybe change\n",
    "                           patience=50, verbose=1,\n",
    "                           restore_best_weights=True) #when stop ensure we keep best perf\n",
    "learningRateScheduler = LearningRateScheduler(lr_scheduler)\n",
    "\n",
    "log_dir = \"logs/fit\"  # Specify the directory where logs will be stored\n",
    "tensorboard_callback = tf.keras.callbacks.TensorBoard(log_dir=log_dir, histogram_freq=1)\n",
    "\n",
    "\n",
    "print(maxEpochs)"
   ]
  },
  {
   "cell_type": "code",
   "execution_count": 35,
   "id": "25ad5791-566a-4d53-82e9-fd54246f9882",
   "metadata": {},
   "outputs": [
    {
     "data": {
      "image/png": "[encoded data removed]",
      "text/plain": [
       "<Figure size 640x480 with 1 Axes>"
      ]
     },
     "metadata": {},
     "output_type": "display_data"
    }
   ],
   "source": [
    "import matplotlib.pyplot as plt\n",
    "\n",
    "# Get the loss history from the model training\n",
    "training_loss = history.history['loss']\n",
    "validation_loss = history.history['val_loss']\n",
    "\n",
    "# Plot the loss curves\n",
    "epochs = range(1, len(training_loss) + 1)\n",
    "plt.plot(epochs, training_loss, 'b-', label='Training Loss')\n",
    "plt.plot(epochs, validation_loss, 'r-', label='Validation Loss')\n",
    "plt.xlabel('Epochs')\n",
    "plt.ylabel('Loss')\n",
    "plt.legend()\n",
    "plt.show()"
   ]
  },
  {
   "cell_type": "code",
   "execution_count": 36,
   "id": "35b323a3-6456-47a5-90ad-44dcdaad3edb",
   "metadata": {},
   "outputs": [],
   "source": [
    "#model.save('my_model.h5') "
   ]
  },
  {
   "cell_type": "code",
   "execution_count": null,
   "id": "82a04199-adb1-4531-bf6f-4de5bfb0a68b",
   "metadata": {},
   "outputs": [],
   "source": []
  }
 ],
 "metadata": {
  "kernelspec": {
   "display_name": "Python 3 (ipykernel)",
   "language": "python",
   "name": "python3"
  },
  "language_info": {
   "codemirror_mode": {
    "name": "ipython",
    "version": 3
   },
   "file_extension": ".py",
   "mimetype": "text/x-python",
   "name": "python",
   "nbconvert_exporter": "python",
   "pygments_lexer": "ipython3",
   "version": "3.10.6"
  }
 },
 "nbformat": 4,
 "nbformat_minor": 5
}
