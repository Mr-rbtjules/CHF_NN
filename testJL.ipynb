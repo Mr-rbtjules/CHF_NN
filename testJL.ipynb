{
 "cells": [
  {
   "cell_type": "code",
   "execution_count": 1,
   "id": "7634f407-904b-4515-b16e-297bf12f240d",
   "metadata": {},
   "outputs": [
    {
     "name": "stderr",
     "output_type": "stream",
     "text": [
      "2023-07-20 19:25:31.882875: I tensorflow/tsl/cuda/cudart_stub.cc:28] Could not find cuda drivers on your machine, GPU will not be used.\n",
      "2023-07-20 19:25:32.048001: I tensorflow/tsl/cuda/cudart_stub.cc:28] Could not find cuda drivers on your machine, GPU will not be used.\n",
      "2023-07-20 19:25:32.050450: I tensorflow/core/platform/cpu_feature_guard.cc:182] This TensorFlow binary is optimized to use available CPU instructions in performance-critical operations.\n",
      "To enable the following instructions: AVX2 FMA, in other operations, rebuild TensorFlow with the appropriate compiler flags.\n",
      "2023-07-20 19:25:33.290155: W tensorflow/compiler/tf2tensorrt/utils/py_utils.cc:38] TF-TRT Warning: Could not find TensorRT\n"
     ]
    }
   ],
   "source": [
    "import tensorflow as tf\n",
    "import pandas as pd\n",
    "from tensorflow.keras.models import Sequential #regroupement de layer formant le modele\n",
    "#dense == tensor ou layer ou ensemble de neurons d'un mm niveau \n",
    " \n",
    "from tensorflow.keras.layers import Dense, Dropout, BatchNormalization, LeakyReLU, Activation #layer instance\n",
    "\n",
    "#import la fct elu pour pouvoir gerer HP alpha\n",
    "from tensorflow.keras.activations import relu, sigmoid\n",
    "from tensorflow.keras.losses import MeanSquaredLogarithmicError, MeanAbsolutePercentageError\n",
    "from tensorflow.keras.optimizers import Adam\n",
    "from tensorflow.keras.callbacks import LearningRateScheduler, EarlyStopping, TensorBoard\n",
    "\n",
    "from tensorflow.keras import backend as K\n",
    "\n",
    "from sklearn.preprocessing import StandardScaler\n",
    "\n",
    "from sklearn.model_selection import train_test_split\n",
    "\n",
    "import numpy as np\n",
    "import random\n",
    "import time\n",
    "from datetime import datetime\n",
    "\n",
    "from src.vizu import *\n"
   ]
  },
  {
   "cell_type": "code",
   "execution_count": 2,
   "id": "63294139-7308-4b51-96e0-58bf73f1fdd1",
   "metadata": {},
   "outputs": [],
   "source": [
    "#previous dr 0.7\n",
    "\n",
    "\n",
    "\n",
    "\n",
    "###HYPERPARAM###\n",
    "# type d'archi qu'on veut \n",
    "architecture = [5,39, 40, 31, 42, 1]#small\n",
    "#architecture = [5,61,51,28,39,26,21,20,14,1]\n",
    "\n",
    "dropoutRate = 0.95 #0.5 va lisser les courbes\n",
    "learningRate = 0.05  #peut etre augmenter car batchnormalisation # ou peut etre plus vite decroitre\n",
    "expDecay = 0.96\n",
    "rythm = 32\n",
    "testPercent = 0.2\n",
    "maxEpochs = 2#pas trop important car peut de chance d'overfitt\n",
    "\n",
    "#! >=0  = pente pour tt x en dessous de thresold\n",
    "alphaActi = 0 # 0.1 15% 0.3 25%S  ,36% pr 0.15\n",
    "clipGrad = 1\n",
    "\n",
    "\n",
    "seed_pre_shuffle = 50 #for numpy\n",
    "\n",
    "seed_tf = 60\n",
    "seed_python = 30\n",
    "seed_numpy = 70\n",
    "seed_ss = 90\n",
    "\n",
    "seed_nb = 3\n",
    "\n",
    "seed_pre_shuffle += seed_nb\n",
    "\n",
    "seed_tf += seed_nb\n",
    "seed_python += seed_nb\n",
    "seed_numpy += seed_nb\n",
    "seed_ss += seed_nb\n",
    "\n",
    "\n",
    "loss_function = MeanSquaredLogarithmicError()\n",
    "\n",
    "\n",
    "def nrmse(y_true, y_pred):\n",
    "    return K.sqrt(K.mean(K.square(y_pred - y_true)))/K.mean(y_true)\n",
    "\n",
    "other_metrics = ['mape', nrmse]\n",
    "\n",
    "monitorParam = 'loss'\n",
    "loss_delta_stop = 0.0001\n",
    "batchSize = 32 #pt 16\n"
   ]
  },
  {
   "cell_type": "code",
   "execution_count": 3,
   "id": "7c0cc78e-4960-4e82-915e-20580b6a66a2",
   "metadata": {},
   "outputs": [],
   "source": [
    "###ACTIVATION###\n",
    "\n",
    "actMethod = relu\n",
    "#actMethod = LeakyReLU(alpha=alphaActi)\n",
    "#actMethod = sigmoid"
   ]
  },
  {
   "cell_type": "code",
   "execution_count": 4,
   "id": "abd73083-805f-4328-99d3-c90144bb4ac1",
   "metadata": {},
   "outputs": [],
   "source": [
    "###PREP TENSOR BOARD###\n",
    "\n",
    "NAME = \"CHF_hp_\" + datetime.now().strftime(\"%Y%m%d-%H%M%S\")\n",
    " \n",
    "#pour avoir un resumé sur tensorboard\n",
    "log_dir = \"../logs/{}\".format(NAME)  # Specify the directory where logs will be stored\n",
    "tb = TensorBoard(log_dir=log_dir, histogram_freq=1)\n",
    "\n",
    "#tensorboard --logdir logs/\n"
   ]
  },
  {
   "cell_type": "code",
   "execution_count": 5,
   "id": "e4b281e9-4a97-42a8-b69d-03756dcf9ed8",
   "metadata": {},
   "outputs": [],
   "source": [
    "###SEED###\n",
    "\n",
    "#seed for weights and all\n",
    "tf.random.set_seed(seed_tf)\n",
    "\n",
    "#seed for data shuffle\n",
    "np.random.seed(seed_numpy)\n",
    "\n",
    "#python seed to be sure\n",
    "random.seed(seed_python)"
   ]
  },
  {
   "cell_type": "code",
   "execution_count": 6,
   "id": "c82c0a35-87a0-4acf-b6fa-ada0ccbc2fff",
   "metadata": {},
   "outputs": [],
   "source": [
    "###LOAD DATA###\n",
    "\n",
    "data = pd.read_csv('./final/csv_files/sort_data.csv') \n",
    "\n",
    "#print(data)\n",
    "\n",
    "\n",
    "### Stratified Sampling###\n",
    "\n",
    "\n",
    "#print('value counts',data['CHF'].value_counts(normalize=True)) #renvoie chaque valeurs de CHF diff avec la proportion\n",
    "\n",
    "validation_data = data.groupby('CHF').apply(\n",
    "    lambda x: x.sample(frac=testPercent, random_state=seed_ss)\n",
    ").droplevel(0).sample(frac=1, random_state=seed_pre_shuffle)\n",
    "\n",
    "\n",
    "\n",
    "#print(validation_data.loc[[4]]) #-> localiser sur base du label index et iloc si on veut la i eme ligne \n",
    "\n",
    "training_data = data.drop(\n",
    "    validation_data.index\n",
    ").sample(frac=1, random_state=seed_pre_shuffle)\n",
    "\n",
    "\n",
    "\n",
    "\n",
    "\n",
    "\n",
    "X_train = training_data.iloc[:, 1:6].values #inputs\n",
    "y_train = training_data.iloc[:, 7].values #target outputs\n",
    "\n",
    "X_val = validation_data.iloc[:, 1:6].values\n",
    "y_val = validation_data.iloc[:, 7].values\n",
    "\n",
    "\n",
    "\n",
    "# normalisation std  only training features\n",
    "scaler = StandardScaler()\n",
    "X_train = scaler.fit_transform(X_train)\n",
    "\n",
    "#then use the normalisation of the first set\n",
    "X_val = scaler.transform(X_val)\n",
    "\n",
    "\n",
    "##import to save bc use it when want to predict\n",
    "mean_value = scaler.mean_\n",
    "std_deviation = scaler.scale_\n",
    "\n",
    "#mean_tg = np.mean(y_train)\n",
    "#std_tg = np.std(y_train)\n",
    "#y_train = (y_train-mean_tg)/std_tg\n",
    "#y_val = (y_val-mean_tg)/std_tg\n",
    "#then use the normalisation of the first set\n",
    "\n",
    "\n",
    "\n",
    "\n"
   ]
  },
  {
   "cell_type": "code",
   "execution_count": 7,
   "id": "c15ce130-4b39-47c7-a54f-181d2c1d8469",
   "metadata": {},
   "outputs": [],
   "source": [
    "###INIT MODEL###\n",
    "\n",
    "\n",
    "model = Sequential()\n",
    "# Add the layers\n",
    "\n",
    "for layer, neurons in enumerate(architecture[1:]):\n",
    "    \n",
    "    if layer == 0:\n",
    "        model.add(Dense(neurons, input_shape=(architecture[0],)))\n",
    "    else:\n",
    "        model.add(Dense(neurons))\n",
    "        \n",
    "    model.add(Activation(actMethod))\n",
    "    if  layer != len(architecture[1:]) - 1 :#and layer != len(architecture[1:]) - 2 :\n",
    "        model.add(BatchNormalization())\n",
    "        \n",
    "    if layer == 0 or layer == 1:\n",
    "        model.add(Dropout(dropoutRate))\n",
    "    \n",
    "    \n",
    "\n",
    "\n",
    "\n",
    "model.compile(optimizer=Adam(learning_rate=learningRate), \n",
    "              loss=loss_function, metrics=other_metrics)\n",
    "\n",
    "\n",
    "###Vizualisation###\n",
    "\n",
    "#from keras.utils.vis_utils import plot_model\n",
    "#plot_model(model, to_file='model_plot.png', show_shapes=True, show_layer_names=True)\n",
    "\n",
    "#visualize_nn(model, description=True, figsize=(100,100))#prend qq secondes + enregistre\n"
   ]
  },
  {
   "cell_type": "code",
   "execution_count": 9,
   "id": "de9423c1-60fe-425f-bf67-83d69f538cca",
   "metadata": {},
   "outputs": [],
   "source": [
    "###CALLBACKS###\n",
    "\n",
    "#== modification/monitoring durant l'entrainement\n",
    "#on stop qd plus de chgmt apres 50 epoch\n",
    "early_stop = EarlyStopping(monitor=monitorParam,          #mieux de monitorer la loss car moins variable \n",
    "                           min_delta=loss_delta_stop,             #if nothing precise, it will check loss and stop after no change of >=0.1\n",
    "                           patience=50, verbose=1,\n",
    "                           restore_best_weights=True) #when stop ensure we keep best perf\n",
    "\n",
    "# tt les 32 epochs lr perd 4%\n",
    "#schedule == function to give to LearningScheduler, with epoch and lr as param\n",
    "def lr_scheduler(epoch, lr):          #to modify and/or add to HP   \n",
    "    if epoch % rythm == 0 and epoch > 0:\n",
    "        return lr * expDecay\n",
    "    return lr\n",
    "\n",
    "learningRateScheduler = LearningRateScheduler(lr_scheduler)\n",
    "\n"
   ]
  },
  {
   "cell_type": "code",
   "execution_count": 10,
   "id": "ea027075-c1bb-42ea-b355-d2c2aebef925",
   "metadata": {
    "scrolled": true
   },
   "outputs": [
    {
     "name": "stdout",
     "output_type": "stream",
     "text": [
      "Epoch 1/2\n",
      "626/626 [==============================] - 6s 6ms/step - loss: 55.1717 - mape: 99.8321 - nrmse: 1.3036 - val_loss: 33.6628 - val_mape: 99.5751 - val_nrmse: 1.1975 - lr: 0.0500\n",
      "Epoch 2/2\n",
      "626/626 [==============================] - 3s 5ms/step - loss: 29.0993 - mape: 99.2821 - nrmse: 1.3013 - val_loss: 23.2866 - val_mape: 98.8611 - val_nrmse: 1.1939 - lr: 0.0500\n",
      "Model: \"sequential\"\n",
      "_________________________________________________________________\n",
      " Layer (type)                Output Shape              Param #   \n",
      "=================================================================\n",
      " dense (Dense)               (None, 39)                234       \n",
      "                                                                 \n",
      " activation (Activation)     (None, 39)                0         \n",
      "                                                                 \n",
      " batch_normalization (BatchN  (None, 39)               156       \n",
      " ormalization)                                                   \n",
      "                                                                 \n",
      " dropout (Dropout)           (None, 39)                0         \n",
      "                                                                 \n",
      " dense_1 (Dense)             (None, 40)                1600      \n",
      "                                                                 \n",
      " activation_1 (Activation)   (None, 40)                0         \n",
      "                                                                 \n",
      " batch_normalization_1 (Batc  (None, 40)               160       \n",
      " hNormalization)                                                 \n",
      "                                                                 \n",
      " dropout_1 (Dropout)         (None, 40)                0         \n",
      "                                                                 \n",
      " dense_2 (Dense)             (None, 31)                1271      \n",
      "                                                                 \n",
      " activation_2 (Activation)   (None, 31)                0         \n",
      "                                                                 \n",
      " batch_normalization_2 (Batc  (None, 31)               124       \n",
      " hNormalization)                                                 \n",
      "                                                                 \n",
      " dense_3 (Dense)             (None, 42)                1344      \n",
      "                                                                 \n",
      " activation_3 (Activation)   (None, 42)                0         \n",
      "                                                                 \n",
      " batch_normalization_3 (Batc  (None, 42)               168       \n",
      " hNormalization)                                                 \n",
      "                                                                 \n",
      " dense_4 (Dense)             (None, 1)                 43        \n",
      "                                                                 \n",
      " activation_4 (Activation)   (None, 1)                 0         \n",
      "                                                                 \n",
      "=================================================================\n",
      "Total params: 5,100\n",
      "Trainable params: 4,796\n",
      "Non-trainable params: 304\n",
      "_________________________________________________________________\n"
     ]
    }
   ],
   "source": [
    "###TRAINING###\n",
    "\n",
    "#a partir d'ici que les weigghts sont crée \n",
    "history = model.fit(X_train, y_train,\n",
    "                    shuffle=False,                  #comme ça on le fait ns mm avec une seed\n",
    "                    validation_data=(X_val,y_val),\n",
    "                    batch_size=batchSize, epochs=maxEpochs,\n",
    "                    callbacks=[early_stop, learningRateScheduler, tb], #mpa_callback\n",
    "                    verbose=1)                                    #progress bar\n",
    "\n",
    "# resumé\n",
    "\n",
    "model.summary()"
   ]
  },
  {
   "cell_type": "code",
   "execution_count": 11,
   "id": "851a98f5-3349-42e5-8ffa-42e2255725df",
   "metadata": {},
   "outputs": [
    {
     "data": {
      "text/plain": [
       "'\\nhistory2 = model.fit(X_train, y_train,\\n                    shuffle=False,                  #comme ça on le fait ns mm avec une seed\\n                    validation_data=(X_val,y_val),\\n                    batch_size=batchSize, epochs=(maxEpochs+5),\\n                    callbacks=[early_stop, learningRateScheduler, tb], #mpa_callback\\n                    verbose=1)                                    #progress bar\\n\\n# resumé\\n\\nmodel.summary()\\n'"
      ]
     },
     "execution_count": 11,
     "metadata": {},
     "output_type": "execute_result"
    }
   ],
   "source": [
    "\n",
    "\"\"\"\n",
    "history2 = model.fit(X_train, y_train,\n",
    "                    shuffle=False,                  #comme ça on le fait ns mm avec une seed\n",
    "                    validation_data=(X_val,y_val),\n",
    "                    batch_size=batchSize, epochs=(maxEpochs+5),\n",
    "                    callbacks=[early_stop, learningRateScheduler, tb], #mpa_callback\n",
    "                    verbose=1)                                    #progress bar\n",
    "\n",
    "# resumé\n",
    "\n",
    "model.summary()\n",
    "\"\"\""
   ]
  },
  {
   "cell_type": "code",
   "execution_count": 12,
   "id": "25ad5791-566a-4d53-82e9-fd54246f9882",
   "metadata": {},
   "outputs": [
    {
     "name": "stdout",
     "output_type": "stream",
     "text": [
      "loss\n"
     ]
    },
    {
     "data": {
      "image/png": "[encoded data removed]",
      "text/plain": [
       "<Figure size 640x480 with 1 Axes>"
      ]
     },
     "metadata": {},
     "output_type": "display_data"
    },
    {
     "name": "stdout",
     "output_type": "stream",
     "text": [
      "CHF_hp_20230720-192546\n"
     ]
    }
   ],
   "source": [
    "###PLOT PERFORMANCE###\n",
    "print(monitorParam)\n",
    "import matplotlib.pyplot as plt\n",
    "\n",
    "# Get the loss history from the model training\n",
    "training_loss = history.history['loss']\n",
    "validation_loss = history.history['val_loss']\n",
    "\n",
    "# Plot the loss curves\n",
    "epochs = range(1, len(training_loss) + 1)\n",
    "plt.semilogy(epochs, training_loss, 'b-', label='Training Loss')\n",
    "plt.semilogy(epochs, validation_loss, 'r-', label='Validation Loss')\n",
    "plt.xlabel('Epochs')\n",
    "plt.ylabel('Loss')\n",
    "plt.legend()\n",
    "plt.xticks(rotation=45)\n",
    "\n",
    "\n",
    "\n",
    "#plt.savefig('loss_plot1.png')\n",
    "\n",
    "plt.show()\n",
    "print(NAME)"
   ]
  },
  {
   "cell_type": "code",
   "execution_count": 16,
   "id": "82a04199-adb1-4531-bf6f-4de5bfb0a68b",
   "metadata": {},
   "outputs": [
    {
     "name": "stdout",
     "output_type": "stream",
     "text": [
      "134/134 [==============================] - 0s 2ms/step\n",
      "pourcentage moyen d'erreur relative final  :  99.3347267172608\n",
      "mean : 150.30791651037055 std : 181.22765456696015\n",
      "test 102.7161566997796\n",
      "NRMSE: 1.2057528713932313\n",
      "NRMSE: 1.2057528713932297\n"
     ]
    }
   ],
   "source": [
    "predictions = np.array([i[0] for i in model.predict(X_val)])\n",
    "\n",
    "\n",
    "mpe = (np.mean(np.abs(y_val - predictions) / np.mean(y_val))) * 100\n",
    "print(\"pourcentage moyen d'erreur relative final  : \", mpe)\n",
    "\n",
    "m = np.mean(y_val/predictions)\n",
    "\n",
    "\n",
    "\n",
    "def my_std(y_val, predictions):\n",
    "    MP = y_val/predictions\n",
    "    \n",
    "    std = 0\n",
    "    for i in MP:\n",
    "        std += (1-i)**2\n",
    "    return np.sqrt(std/len(MP))\n",
    "    \n",
    "std = my_std(y_val,predictions)\n",
    "print(\"mean :\",m,\"std :\", std)\n",
    "\n",
    "print('test', np.std(y_val/predictions))\n",
    "\n",
    "sum = 0\n",
    "for i in range(len(y_val)):\n",
    "    sum += (y_val[i]-predictions[i])**2\n",
    "\n",
    "nrmse = np.sqrt(sum/len(y_val)) / np.mean(y_val)\n",
    "\n",
    "print(\"NRMSE:\", nrmse)\n",
    "\n",
    "def nrmse(y_true,y_pred):\n",
    "    return np.sqrt(np.mean(np.square(y_pred - y_true)))/np.mean(y_true)\n",
    "\n",
    "print(\"NRMSE:\", nrmse(y_val,predictions))\n",
    "\n"
   ]
  },
  {
   "cell_type": "code",
   "execution_count": 113,
   "id": "d24b2b3b-2cb2-48f3-8986-dcf272fcfca2",
   "metadata": {},
   "outputs": [
    {
     "data": {
      "image/png": "[encoded data removed]",
      "text/plain": [
       "<Figure size 640x480 with 1 Axes>"
      ]
     },
     "metadata": {},
     "output_type": "display_data"
    }
   ],
   "source": [
    "\n",
    "\n",
    "\n",
    "plt.figure()\n",
    "\n",
    "plt.plot(y_val, predictions, '.r', label='')\n",
    "plt.plot(y_val, y_val, 'b-', label='y=x')\n",
    "plt.xlabel('Measured')\n",
    "plt.ylabel('Predicted')\n",
    "plt.title('Predicted vs Measured')\n",
    "#plt.savefig('test_strat100epoch.png')\n",
    "plt.show()"
   ]
  }
 ],
 "metadata": {
  "kernelspec": {
   "display_name": "Python 3 (ipykernel)",
   "language": "python",
   "name": "python3"
  },
  "language_info": {
   "codemirror_mode": {
    "name": "ipython",
    "version": 3
   },
   "file_extension": ".py",
   "mimetype": "text/x-python",
   "name": "python",
   "nbconvert_exporter": "python",
   "pygments_lexer": "ipython3",
   "version": "3.10.6"
  }
 },
 "nbformat": 4,
 "nbformat_minor": 5
}
