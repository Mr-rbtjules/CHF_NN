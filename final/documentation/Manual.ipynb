{
 "cells": [
  {
   "cell_type": "markdown",
   "id": "1726e1f8-e10d-4cdf-8c15-68fc19d109ac",
   "metadata": {},
   "source": [
    "# 1.Introducing the package\n",
    "\n",
    "In this manual we will use the package called CHF_model_api present in the final directory,\n",
    "since it is locate in the parent directory of this manual we will add the path '..' to the \n",
    "Python Path\n",
    "The usage of the package as CHF is simple, we just have to do CHF.python_file_name_in_the_package.a_function_in_the_file() for function\n",
    "and\n",
    "CHF.Custom_Class() to create object of a wanted class, more example coming"
   ]
  },
  {
   "cell_type": "code",
   "execution_count": 3,
   "id": "2763dcb8-0da4-4609-b810-2ce4885c7280",
   "metadata": {},
   "outputs": [],
   "source": [
    "import sys\n",
    "sys.path.append('..')\n",
    "\n",
    "import CHF_model_api as CHF\n"
   ]
  },
  {
   "cell_type": "markdown",
   "id": "a8677350-f57b-404e-ab17-347dfeeeefbf",
   "metadata": {},
   "source": [
    "# 2.Exploring tools.py file and functions\n",
    "\n",
    "As we can discover in the documentation, several functions are available in tools.py here is an example of usage:\n"
   ]
  },
  {
   "cell_type": "code",
   "execution_count": 2,
   "id": "c53237c6-5062-48e0-84fe-34236130ad65",
   "metadata": {},
   "outputs": [
    {
     "name": "stdout",
     "output_type": "stream",
     "text": [
      "{'input_number': 5, 'name': '20230725-154946', 'architecture': [5, 61, 51, 28, 39, 26, 21, 20, 14, 1], 'learning_rate': 0.01, 'dropout_rate': 0.25401106288895464, 'learning_rate_decay': 0.96, 'rythm': 32, 'alpha_acti': 0, 'batch_size': 32, 'optimizer': 'adam', 'max_epochs': 300, 'loss_function': 'msle', 'loss_delta_stop': 0.001, 'batch_normalisation': True, 'patience': 20, 'data_seed': 1, 'seed_tf': 1, 'normalization_mean': [305.9968678533564, 9754669.947074097, 2035.3910575194725, 0.34938015777910786, 471801.40008987417], 'normalization_std': [253.754249736768, 5568103.752251855, 1520.165441868585, 0.27408590417553425, 330639.23572317336], 'mpe': 7.59962137157747, 'msle': 0.022179472117728114, 'mean_MP': 0.9468731041650547, 'std_MP': 0.12640864598579488, 'nrmse': 0.13587910173551074, 'verbose': 1, 'metric_name': None}\n"
     ]
    }
   ],
   "source": [
    "hparams = CHF.tools.getHparamsSavedModel('20230725-154946')\n",
    "print(hparams)"
   ]
  },
  {
   "cell_type": "code",
   "execution_count": null,
   "id": "b8d7384d-7476-43a4-ae96-065befc5148e",
   "metadata": {},
   "outputs": [],
   "source": []
  }
 ],
 "metadata": {
  "kernelspec": {
   "display_name": "Python 3 (ipykernel)",
   "language": "python",
   "name": "python3"
  },
  "language_info": {
   "codemirror_mode": {
    "name": "ipython",
    "version": 3
   },
   "file_extension": ".py",
   "mimetype": "text/x-python",
   "name": "python",
   "nbconvert_exporter": "python",
   "pygments_lexer": "ipython3",
   "version": "3.10.12"
  }
 },
 "nbformat": 4,
 "nbformat_minor": 5
}
