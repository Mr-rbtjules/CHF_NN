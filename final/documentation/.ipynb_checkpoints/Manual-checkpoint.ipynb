{
 "cells": [
  {
   "cell_type": "markdown",
   "id": "1726e1f8-e10d-4cdf-8c15-68fc19d109ac",
   "metadata": {},
   "source": [
    "# 1.Introducing the package\n",
    "\n",
    "In this manual we will use the package called CHF_model_api present in the final directory,\n",
    "since it is locate in the parent directory of this manual we will add the path '..' to the \n",
    "Python Path\n",
    "The usage of the package as CHF is simple, we just have to do CHF.python_file_name_in_the_package.a_function_in_the_file() for function\n",
    "and\n",
    "CHF.Custom_Class() to create object of a wanted class, more example coming"
   ]
  },
  {
   "cell_type": "code",
   "execution_count": 1,
   "id": "2763dcb8-0da4-4609-b810-2ce4885c7280",
   "metadata": {},
   "outputs": [
    {
     "name": "stderr",
     "output_type": "stream",
     "text": [
      "2023-10-01 20:25:13.571787: I tensorflow/tsl/cuda/cudart_stub.cc:28] Could not find cuda drivers on your machine, GPU will not be used.\n",
      "2023-10-01 20:25:13.997559: I tensorflow/tsl/cuda/cudart_stub.cc:28] Could not find cuda drivers on your machine, GPU will not be used.\n",
      "2023-10-01 20:25:14.000559: I tensorflow/core/platform/cpu_feature_guard.cc:182] This TensorFlow binary is optimized to use available CPU instructions in performance-critical operations.\n",
      "To enable the following instructions: AVX2 FMA, in other operations, rebuild TensorFlow with the appropriate compiler flags.\n",
      "2023-10-01 20:25:16.100305: W tensorflow/compiler/tf2tensorrt/utils/py_utils.cc:38] TF-TRT Warning: Could not find TensorRT\n"
     ]
    }
   ],
   "source": [
    "import sys\n",
    "sys.path.append('..')\n",
    "\n",
    "import CHF_model_api as CHF\n"
   ]
  },
  {
   "cell_type": "markdown",
   "id": "a8677350-f57b-404e-ab17-347dfeeeefbf",
   "metadata": {},
   "source": [
    "# 2.Exploring tools.py file and functions\n",
    "\n",
    "As we can discover in the documentation, several functions are available in tools.py here is an example of usage:\n"
   ]
  },
  {
   "cell_type": "code",
   "execution_count": 2,
   "id": "c53237c6-5062-48e0-84fe-34236130ad65",
   "metadata": {},
   "outputs": [
    {
     "name": "stdout",
     "output_type": "stream",
     "text": [
      "/home/jules/project/CHF_NN/final/CHF_model_api\n"
     ]
    }
   ],
   "source": [
    "print(CHF.config.BASE_DIR)\n"
   ]
  }
 ],
 "metadata": {
  "kernelspec": {
   "display_name": "Python 3 (ipykernel)",
   "language": "python",
   "name": "python3"
  },
  "language_info": {
   "codemirror_mode": {
    "name": "ipython",
    "version": 3
   },
   "file_extension": ".py",
   "mimetype": "text/x-python",
   "name": "python",
   "nbconvert_exporter": "python",
   "pygments_lexer": "ipython3",
   "version": "3.10.12"
  }
 },
 "nbformat": 4,
 "nbformat_minor": 5
}
