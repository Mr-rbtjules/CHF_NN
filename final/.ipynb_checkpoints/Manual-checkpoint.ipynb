{
 "cells": [
  {
   "cell_type": "markdown",
   "id": "0eaf677d-291f-4aa0-9712-33fc186a1820",
   "metadata": {},
   "source": [
    "<span style=\"font-size:40px;\">Manual -> CHF_model_api</span>"
   ]
  },
  {
   "cell_type": "markdown",
   "id": "1726e1f8-e10d-4cdf-8c15-68fc19d109ac",
   "metadata": {},
   "source": [
    "# 1.Introducing the package\n",
    "\n",
    "<span style=\"font-size:20px;\">This package is meant to manipulate easily Neural Network models for CHF predictions and optimize the hyperparameters of the models\n",
    "tree: \n",
    "</span>\n",
    "```\n",
    "/CHF_model_api\n",
    "├── config.py--------------------->paths and config values\n",
    "├── data-------------------------->directory storing data produced by the package or need for the package\n",
    "│   ├── csv_files----------------->csv files output data of the LUT.pdf extraction\n",
    "│   │   ├── original_data.csv\n",
    "│   │   ├── sort_data_backup.csv\n",
    "│   │   └── sort_data.csv\n",
    "│   ├── hparams_tuning_tb\n",
    "│   ├── logs---------------------->logs of the training of the NN modes\n",
    "│   ├── optuna_sql_databases------> database used for optuna hyperparameters optimisation\n",
    "│   ├── pdf_files----------------->LUT table , resources\n",
    "│   ├── saved_models\n",
    "│   │   ├── hparams--------------->dict with HP of the models saved in .json format\n",
    "│   │   └── models---------------->saved models in .h5 format\n",
    "│   └── visuals------------------->loss graph, visualisations of the NN\n",
    "├── dataBase.py------------------->contain MyDB class\n",
    "├── docs-------------------------->to produce documentation\n",
    "├── __init__.py\n",
    "├── model.py---------------------->contain MyModel class\n",
    "├── tensorBoard.py\n",
    "├── tests------------------------->tests example\n",
    "└── tools.py---------------------->global functions for the classes\n",
    "```\n",
    "\n",
    "\n",
    "<span style=\"font-size:20px;\"></span>\n"
   ]
  },
  {
   "cell_type": "markdown",
   "id": "6b1f863e-a142-41bc-8272-dd5c8f35a78e",
   "metadata": {},
   "source": [
    "# 2. Installation of dependencies and related package\n",
    "\n",
    "<span style=\"font-size:20px;\">!!! make sure to pip install</span>\n",
    "\n",
    "- **tabula-py**\n",
    "- **pandas**\n",
    "- **tensorflow**\n",
    "- **optuna**\n",
    "- **sklearn**\n",
    "- **numpy**\n",
    "- **matplotlib**\n",
    "---\n"
   ]
  },
  {
   "cell_type": "markdown",
   "id": "846a91e4-5fd8-46a7-b58c-81a1ba56dace",
   "metadata": {},
   "source": [
    "# 3.Common Use\n",
    "<span style=\"font-size:20px;\">In this manual we will use the package called CHF_model_api present in the final directory, since it is locate in the parent directory of this manual we will add the path '.' to the Python Path. The usage of the package as CHF is simple, we just have to do CHF.python_file_name_in_the_package.a_function_in_the_file() for function and CHF.Custom_Class() to create object of a wanted class, more example coming</span>\n"
   ]
  },
  {
   "cell_type": "code",
   "execution_count": 1,
   "id": "d4e88bfa-e49a-4292-955b-b5e7b9ad466c",
   "metadata": {},
   "outputs": [
    {
     "name": "stderr",
     "output_type": "stream",
     "text": [
      "2023-10-05 15:48:32.393397: I tensorflow/tsl/cuda/cudart_stub.cc:28] Could not find cuda drivers on your machine, GPU will not be used.\n",
      "2023-10-05 15:48:32.481845: I tensorflow/tsl/cuda/cudart_stub.cc:28] Could not find cuda drivers on your machine, GPU will not be used.\n",
      "2023-10-05 15:48:32.483310: I tensorflow/core/platform/cpu_feature_guard.cc:182] This TensorFlow binary is optimized to use available CPU instructions in performance-critical operations.\n",
      "To enable the following instructions: AVX2 FMA, in other operations, rebuild TensorFlow with the appropriate compiler flags.\n",
      "2023-10-05 15:48:33.884868: W tensorflow/compiler/tf2tensorrt/utils/py_utils.cc:38] TF-TRT Warning: Could not find TensorRT\n"
     ]
    }
   ],
   "source": [
    "import sys\n",
    "sys.path.append('.')\n",
    "\n",
    "import CHF_model_api as CHF"
   ]
  },
  {
   "cell_type": "markdown",
   "id": "a8677350-f57b-404e-ab17-347dfeeeefbf",
   "metadata": {},
   "source": [
    "# 4.Exploring tools.py file and functions\n",
    "\n",
    "<span style=\"font-size:20px;\">As we can discover in the documentation, several functions are available in tools.py here is an example of usage:\n",
    "</span>\n"
   ]
  },
  {
   "cell_type": "code",
   "execution_count": 2,
   "id": "c53237c6-5062-48e0-84fe-34236130ad65",
   "metadata": {},
   "outputs": [
    {
     "name": "stdout",
     "output_type": "stream",
     "text": [
      "package working\n",
      "True\n"
     ]
    }
   ],
   "source": [
    "test = CHF.tools.testTools()\n",
    "print(test)"
   ]
  },
  {
   "cell_type": "markdown",
   "id": "02e364d2-6b15-436b-acaf-9aeb002e598e",
   "metadata": {},
   "source": [
    "<span style=\"font-size:20px;\">tools.py is mainly used in the other class and don't have any usage outside</span>\n"
   ]
  },
  {
   "cell_type": "markdown",
   "id": "704a01cc-11e2-4bf5-94c1-9dd27043f6dc",
   "metadata": {},
   "source": [
    "# 5.Exploring dataBase.py and the MyDB class\n",
    "\n",
    "<span style=\"font-size:20px;\">The class DataBase has 2 main uses:</span>\n",
    "<ul style=\"font-size:20px;\">\n",
    "    <li>Create data to train a neural network based on the LUT.</li>\n",
    "    <li>Generate a function using linear interpolation on the LUT data and plot its performances.</li>\n",
    "</ul>\n",
    "\n",
    "\n",
    "<span style=\"font-size:20px;\">The data extraction from the LUT is made automatically when a MyDB object\n",
    "is created, optional parameters can be set, a seed number (to get a different shuffle of the database, more on that after)) and the input number 4 for X,P,G,L/D or 5 for X,P,DH,G,L/D</span>\n",
    "\n"
   ]
  },
  {
   "cell_type": "code",
   "execution_count": 3,
   "id": "4e42d1c3-8cf2-485a-9bfb-9e02d27c2c33",
   "metadata": {},
   "outputs": [
    {
     "name": "stdout",
     "output_type": "stream",
     "text": [
      "Load data from csv\n",
      "Remove negative DHIN\n",
      "Data loaded seed: 1\n"
     ]
    }
   ],
   "source": [
    "database = CHF.MyDB(seed=1, input_number=4)\n"
   ]
  },
  {
   "cell_type": "markdown",
   "id": "040d57b2-8814-4e82-b799-487a7e51a454",
   "metadata": {},
   "source": [
    "---\n",
    "## Dictionary Structure: `MyDB.data`\n",
    "\n",
    "\n",
    "- **validation_targets**: \n",
    "    - Description: `the list of CHF use to check the performance`\n",
    "- **validation_features**: \n",
    "    - Description: `the list of the lists of the parameters (input) use to check the performance`\n",
    "- **train_features**: \n",
    "    - Description: `the list of the lists of the parameters use to train the NN model or create the interpolation function`\n",
    "- **train_targets**: \n",
    "    - Description: `the set of CHF use to train the NN model or create the interpolation function`\n",
    "- **mean**: \n",
    "    - Description: `list of the mean of each parameters`\n",
    "- **std**: \n",
    "    - Description: `list of the standard deviation of each parameters`\n",
    "---\n",
    "\n",
    "\n"
   ]
  },
  {
   "cell_type": "markdown",
   "id": "62e2d695-15f5-4957-a2b4-9a95b2ef31bf",
   "metadata": {},
   "source": [
    "<span style=\"font-size:20px;\">Another functionality we can use is the interpolation of LUT to make predictions</span>"
   ]
  },
  {
   "cell_type": "code",
   "execution_count": 4,
   "id": "20ac7924-d477-4239-8534-90dac084450d",
   "metadata": {},
   "outputs": [
    {
     "name": "stdout",
     "output_type": "stream",
     "text": [
      "Load data from csv\n",
      "Remove negative DHIN\n",
      "Data loaded seed: 1\n",
      "Creation of the interpolation function of LUT\n"
     ]
    },
    {
     "ename": "KeyboardInterrupt",
     "evalue": "",
     "output_type": "error",
     "traceback": [
      "\u001b[0;31m---------------------------------------------------------------------------\u001b[0m",
      "\u001b[0;31mKeyboardInterrupt\u001b[0m                         Traceback (most recent call last)",
      "Cell \u001b[0;32mIn[4], line 4\u001b[0m\n\u001b[1;32m      2\u001b[0m point \u001b[38;5;241m=\u001b[39m [\u001b[38;5;241m152.67175572519082\u001b[39m,\u001b[38;5;241m1.04000000e+06\u001b[39m, \u001b[38;5;241m5.17000000e+02\u001b[39m, \u001b[38;5;241m5.63000000e-01\u001b[39m] \u001b[38;5;66;03m#close to point 2922\u001b[39;00m\n\u001b[1;32m      3\u001b[0m set_points \u001b[38;5;241m=\u001b[39m [point]\n\u001b[0;32m----> 4\u001b[0m val \u001b[38;5;241m=\u001b[39m \u001b[43mdb_for_interpol\u001b[49m\u001b[38;5;241;43m.\u001b[39;49m\u001b[43minterpolate\u001b[49m\u001b[43m(\u001b[49m\u001b[43mset_points\u001b[49m\u001b[43m)\u001b[49m\n\u001b[1;32m      5\u001b[0m \u001b[38;5;28mprint\u001b[39m(\u001b[38;5;124m\"\u001b[39m\u001b[38;5;124mPredicted CHF: \u001b[39m\u001b[38;5;124m\"\u001b[39m,val)\n",
      "File \u001b[0;32m~/project/CHF_NN/final/CHF_model_api/dataBase.py:45\u001b[0m, in \u001b[0;36mMyDB.interpolate\u001b[0;34m(self, X_list)\u001b[0m\n\u001b[1;32m     43\u001b[0m scaler\u001b[38;5;241m.\u001b[39mscale_ \u001b[38;5;241m=\u001b[39m \u001b[38;5;28mself\u001b[39m\u001b[38;5;241m.\u001b[39mdata[\u001b[38;5;124m'\u001b[39m\u001b[38;5;124mstd\u001b[39m\u001b[38;5;124m'\u001b[39m]\n\u001b[1;32m     44\u001b[0m normalized_data \u001b[38;5;241m=\u001b[39m scaler\u001b[38;5;241m.\u001b[39mtransform(X_list)\n\u001b[0;32m---> 45\u001b[0m \u001b[38;5;28;01mreturn\u001b[39;00m \u001b[38;5;28;43mself\u001b[39;49m\u001b[38;5;241;43m.\u001b[39;49m\u001b[43minterp_func\u001b[49m\u001b[43m(\u001b[49m\u001b[43mnormalized_data\u001b[49m\u001b[43m)\u001b[49m\n",
      "\u001b[0;31mKeyboardInterrupt\u001b[0m: "
     ]
    }
   ],
   "source": [
    "db_for_interpol = CHF.MyDB(seed=1,input_number=4, interpolation=True)\n",
    "point = [152.67175572519082,1.04000000e+06, 5.17000000e+02, 5.63000000e-01] #close to point 2922\n",
    "set_points = [point]\n",
    "val = db_for_interpol.interpolate(set_points)\n",
    "print(\"Predicted CHF: \",val)"
   ]
  },
  {
   "cell_type": "code",
   "execution_count": null,
   "id": "5856bf6e-6059-4b83-b62c-2e07c34ac389",
   "metadata": {},
   "outputs": [],
   "source": [
    "#or to get the performances of the LUT \n",
    "db_for_interpol.getLUTPerformances()\n",
    "\n"
   ]
  },
  {
   "cell_type": "markdown",
   "id": "4aec5158-ac14-4630-93e0-88dd411eb2c9",
   "metadata": {},
   "source": [
    "# 6. Exploring the model.py file and the MyModel class\n",
    "\n",
    "<span style=\"font-size:20px;\">This class purpose is to create NN model adapted to CHF prediction given a set \n",
    "of Hyperparameters, to train it , save it, reuse it and make real predictions.\n",
    "\n",
    "\n",
    "First let's make a MyModel object with an HP set and explicit some of them</span>\n"
   ]
  },
  {
   "cell_type": "code",
   "execution_count": 1,
   "id": "7881a61c-9b2b-473f-8f8b-4454502b4b22",
   "metadata": {},
   "outputs": [
    {
     "name": "stderr",
     "output_type": "stream",
     "text": [
      "2023-10-05 15:49:25.942660: I tensorflow/tsl/cuda/cudart_stub.cc:28] Could not find cuda drivers on your machine, GPU will not be used.\n",
      "2023-10-05 15:49:26.034603: I tensorflow/tsl/cuda/cudart_stub.cc:28] Could not find cuda drivers on your machine, GPU will not be used.\n",
      "2023-10-05 15:49:26.036028: I tensorflow/core/platform/cpu_feature_guard.cc:182] This TensorFlow binary is optimized to use available CPU instructions in performance-critical operations.\n",
      "To enable the following instructions: AVX2 FMA, in other operations, rebuild TensorFlow with the appropriate compiler flags.\n",
      "2023-10-05 15:49:27.336619: W tensorflow/compiler/tf2tensorrt/utils/py_utils.cc:38] TF-TRT Warning: Could not find TensorRT\n"
     ]
    },
    {
     "name": "stdout",
     "output_type": "stream",
     "text": [
      "Load new model:  20231005-154929\n",
      "Model Loaded, init callbacks\n",
      "Load data from csv\n",
      "Remove negative DHIN\n",
      "Data loaded seed: 1\n",
      "Model ready to train\n"
     ]
    }
   ],
   "source": [
    "import CHF_model_api as CHF\n",
    "#each MyModel object need a dict of HP to be initialized\n",
    "my_hparams = {\n",
    "    'input_number':4,                                      #we can choose 4 (X,L/D,P, G) or 5 inputs (X,L/D,P, G, DHin)\n",
    "    'name': None,                                          #no name yet\n",
    "    'architecture':[4, 61, 51, 28, 39, 26, 21,20, 14, 1],  # must be different than None, represent the number of neurons per layer\n",
    "    'learning_rate': 0.003420540282034936,                 #check article of the project for more information\n",
    "    'dropout_rate' : 0.3348589818400747,\n",
    "    'learning_rate_decay' : 0.83,                          #learning rate decrease 17% evry 'rythm' epochs\n",
    "    'rythm' : 20,\n",
    "    'alpha_acti' : 0,\n",
    "    'batch_size' : 32,                                     #can be increase for more parallelisation see article\n",
    "    'optimizer' : 'adam',                                  #'adam' or 'SGD' , usually adam\n",
    "    'max_epochs' : 400,                                    # maximum epochs after we stop training\n",
    "    'loss_function' : 'msle',                              # msle or mse\n",
    "    'loss_delta_stop' : 0.001,                             # value defining the minimal change before stopping training                      \n",
    "    'batch_normalisation' : True,\n",
    "    'patience': 30,                                        #check evry 'patience' epoch if the loss changed of a value lower than 'loss_delta_stop', stop the training if smaller \n",
    "    'data_seed' : 1,\n",
    "    'seed_tf': 1,\n",
    "    'verbose': 1,\n",
    "    'metric_name': 'msle',                                #the main metric, used to describe the performances\n",
    "    'normalization_mean': None,                           #from here, all the hp bellow are used for saved models and save its performances\n",
    "    'normalization_std': None,\n",
    "    'mpe': None,\n",
    "    'mean_MP': None,\n",
    "    'std_MP': None,\n",
    "    'nrmse': None,\n",
    "    'trained_epochs': 0,\n",
    "}\n",
    "    \n",
    "my_model = CHF.MyModel(hparams=my_hparams)"
   ]
  },
  {
   "cell_type": "markdown",
   "id": "ab417a1f-9e5d-4a0c-ba1f-0f0c0965fa06",
   "metadata": {},
   "source": [
    "<span style=\"font-size:20px;\">The output will show if the model is initiated and ready to train. If no MyDb object have been created before , it will automatically create one to get the data it need to be train. The train function only have otpional parameters, and the train will stop itself after 'maw_epochs' if no train_epochs parameters provided. Here we set 2 train_pochs for the example</span>\n"
   ]
  },
  {
   "cell_type": "code",
   "execution_count": 2,
   "id": "90aedde7-cfff-4074-82bb-f547edb20942",
   "metadata": {},
   "outputs": [
    {
     "name": "stdout",
     "output_type": "stream",
     "text": [
      "Start training model 20231005-154929\n",
      "Epoch 1/10\n",
      "619/619 [==============================] - 9s 7ms/step - loss: 131.3750 - mape: 99.9975 - batch_nrmse: 1.3032 - val_loss: 98.6613 - val_mape: 99.9935 - val_batch_nrmse: 1.2028 - lr: 0.0034\n",
      "Epoch 2/10\n",
      "619/619 [==============================] - 4s 6ms/step - loss: 96.4356 - mape: 99.9909 - batch_nrmse: 1.3032 - val_loss: 81.7553 - val_mape: 99.9840 - val_batch_nrmse: 1.2028 - lr: 0.0034\n",
      "Epoch 3/10\n",
      "619/619 [==============================] - 4s 6ms/step - loss: 84.3585 - mape: 99.9813 - batch_nrmse: 1.3032 - val_loss: 75.1590 - val_mape: 99.9735 - val_batch_nrmse: 1.2027 - lr: 0.0034\n",
      "Epoch 4/10\n",
      "619/619 [==============================] - 4s 6ms/step - loss: 75.5236 - mape: 99.9687 - batch_nrmse: 1.3031 - val_loss: 66.7089 - val_mape: 99.9571 - val_batch_nrmse: 1.2026 - lr: 0.0034\n",
      "Epoch 5/10\n",
      "619/619 [==============================] - 4s 6ms/step - loss: 69.1806 - mape: 99.9533 - batch_nrmse: 1.3031 - val_loss: 61.6417 - val_mape: 99.9394 - val_batch_nrmse: 1.2025 - lr: 0.0034\n",
      "Epoch 6/10\n",
      "619/619 [==============================] - 4s 6ms/step - loss: 64.1653 - mape: 99.9348 - batch_nrmse: 1.3030 - val_loss: 55.8762 - val_mape: 99.9184 - val_batch_nrmse: 1.2024 - lr: 0.0034\n",
      "Epoch 7/10\n",
      "619/619 [==============================] - 4s 6ms/step - loss: 59.6135 - mape: 99.9126 - batch_nrmse: 1.3029 - val_loss: 51.9625 - val_mape: 99.8910 - val_batch_nrmse: 1.2023 - lr: 0.0034\n",
      "Epoch 8/10\n",
      "619/619 [==============================] - 4s 6ms/step - loss: 55.6306 - mape: 99.8869 - batch_nrmse: 1.3028 - val_loss: 47.6235 - val_mape: 99.8554 - val_batch_nrmse: 1.2021 - lr: 0.0034\n",
      "Epoch 9/10\n",
      "619/619 [==============================] - 4s 6ms/step - loss: 52.2327 - mape: 99.8544 - batch_nrmse: 1.3027 - val_loss: 44.9628 - val_mape: 99.8208 - val_batch_nrmse: 1.2019 - lr: 0.0034\n",
      "Epoch 10/10\n",
      "619/619 [==============================] - 4s 6ms/step - loss: 49.3106 - mape: 99.8171 - batch_nrmse: 1.3025 - val_loss: 41.7458 - val_mape: 99.7766 - val_batch_nrmse: 1.2017 - lr: 0.0034\n",
      "133/133 [==============================] - 1s 2ms/step\n",
      "mean absolute percent error  :  99.77656874258388\n",
      "mean percent error  :  -99.77656874258388\n",
      "mean mp : inf std mp : None\n",
      "NRMSE: 1.2104852977776852\n",
      "msle :  41.74577881154335\n"
     ]
    },
    {
     "data": {
      "text/plain": [
       "<keras.callbacks.History at 0x7f0944483850>"
      ]
     },
     "execution_count": 2,
     "metadata": {},
     "output_type": "execute_result"
    }
   ],
   "source": [
    "my_model.train(train_epochs=10)"
   ]
  },
  {
   "cell_type": "markdown",
   "id": "b41184b3-e3f3-4113-90eb-e10d83bf685d",
   "metadata": {},
   "source": [
    "<span style=\"font-size:20px;\">The output of the train method will show the evolution of the loss,\n",
    "2 specials metrics: mape and batch_nrmse, the evolution for the validation set in order to check if overfitting\n",
    "and the learning rate lr, because it will change over time thanks to the callbacks set\n",
    "and finally it wil display  the performances of the model with various metrics describe in the paper of this project</span>"
   ]
  },
  {
   "cell_type": "markdown",
   "id": "c8125de7-e297-4a6e-945d-7ad03e1c3b19",
   "metadata": {},
   "source": [
    "<span style=\"font-size:20px;\">One can decide to plot </span>\n"
   ]
  },
  {
   "cell_type": "markdown",
   "id": "137c9f70-555c-4201-9b81-2fdce09d0160",
   "metadata": {},
   "source": [
    "## Save\n",
    "\n",
    "<span style=\"font-size:20px;\">When we created the my_model object we didn't set optional parameter 'atuo_saved' so we will have to do it manually \n",
    "</span>\n"
   ]
  },
  {
   "cell_type": "code",
   "execution_count": 6,
   "id": "838455b6-a65c-4420-86e1-7ac1073c1b8e",
   "metadata": {},
   "outputs": [
    {
     "data": {
      "image/png": "[encoded data removed]",
      "text/plain": [
       "<Figure size 640x480 with 1 Axes>"
      ]
     },
     "metadata": {},
     "output_type": "display_data"
    },
    {
     "name": "stdout",
     "output_type": "stream",
     "text": [
      "Save model  20231005-155019\n"
     ]
    }
   ],
   "source": [
    "my_model.plotLoss(save=True)\n",
    "my_model.save(overwrite=False)"
   ]
  },
  {
   "cell_type": "markdown",
   "id": "7850396e-eff9-43f8-9b46-f1b237926381",
   "metadata": {},
   "source": [
    "<span style=\"font-size:20px;\">The overwrite parameter is false meaning if the model was already saved , it will create\n",
    "a new backup with a new name/id . Here it is not the case so the id is the same as previously.\n",
    "The model will be saved in CHF_model_ap_/data/saved_models/models in a .h5 format and its hyperparameters in /saved_models/hparams directory in a .json file naming after the name/id of the model</span>\n"
   ]
  },
  {
   "cell_type": "markdown",
   "id": "817f35dd-a4a5-4097-9f91-29eb6a61c7d4",
   "metadata": {},
   "source": [
    "## Load a save model\n",
    "<span style=\"font-size:20px;\">To load a model already saved it is easy we just need to pas MyModel the \n",
    "id of the saved model, it is going to automatically recover the model and its HP dict, we can then train again this\n",
    "model or use it to male real prediction with features in a list, the program will normalize the data pass it to\n",
    "the model and return the predicted value</span>\n",
    "\n"
   ]
  },
  {
   "cell_type": "code",
   "execution_count": 7,
   "id": "3d084e97-0f83-41ea-af31-afcece239113",
   "metadata": {},
   "outputs": [
    {
     "name": "stdout",
     "output_type": "stream",
     "text": [
      "Load saved model:  20231005-155019\n",
      "Model Loaded, init callbacks\n",
      "Model ready to train\n",
      "1/1 [==============================] - 0s 291ms/step\n",
      "Prediction of the CHF:  [2005.9456]\n",
      "[2005.9456]\n"
     ]
    }
   ],
   "source": [
    "saved_model = CHF.MyModel(model_name='20231005-155019')\n",
    "features_points = [[152.67175572519082,1.04000000e+06, 5.17000000e+02, 5.63000000e-01]]\n",
    "prediction = saved_model.makeRealPredictions(features_data=features_points)\n",
    "print(prediction)\n",
    "#and train i"
   ]
  },
  {
   "cell_type": "markdown",
   "id": "2ff7de95-ce80-440d-a304-293f06407a97",
   "metadata": {},
   "source": [
    "# 7.Exploring the optimizer.py file and the MyOptimizer class\n",
    "<span style=\"font-size:20px;\">This class purpose is to optimize the hyperparameters previously introduced, choose the \n",
    "the hp we want to optimize, the number of cpu we want, and the sql database we want to explore\n",
    "the database name can be set in db_name parameter, if the db already exist. If no name is given the databse will be created automatically, the database will deal automatically with the multiprocessing, and it can be reuse   </span>\n",
    "\n"
   ]
  },
  {
   "cell_type": "code",
   "execution_count": 1,
   "id": "60c5f5ef-8622-4eb6-a9da-4c3bad185f80",
   "metadata": {
    "scrolled": true
   },
   "outputs": [
    {
     "name": "stderr",
     "output_type": "stream",
     "text": [
      "2023-10-05 23:33:52.480043: I tensorflow/tsl/cuda/cudart_stub.cc:28] Could not find cuda drivers on your machine, GPU will not be used.\n",
      "2023-10-05 23:33:52.622922: I tensorflow/tsl/cuda/cudart_stub.cc:28] Could not find cuda drivers on your machine, GPU will not be used.\n",
      "2023-10-05 23:33:52.624601: I tensorflow/core/platform/cpu_feature_guard.cc:182] This TensorFlow binary is optimized to use available CPU instructions in performance-critical operations.\n",
      "To enable the following instructions: AVX2 FMA, in other operations, rebuild TensorFlow with the appropriate compiler flags.\n",
      "2023-10-05 23:33:55.534850: W tensorflow/compiler/tf2tensorrt/utils/py_utils.cc:38] TF-TRT Warning: Could not find TensorRT\n"
     ]
    },
    {
     "name": "stdout",
     "output_type": "stream",
     "text": [
      "Load data from csv\n",
      "Remove negative DHIN\n",
      "Data loaded seed: 1\n",
      "Load data from csv\n",
      "Remove negative DHIN\n",
      "Data loaded seed: 1\n"
     ]
    },
    {
     "name": "stderr",
     "output_type": "stream",
     "text": [
      "[I 2023-10-05 23:34:17,495] A new study created in RDB with name: no-name-cf4858b8-24fc-4806-853b-9dbedbe1e296\n"
     ]
    },
    {
     "name": "stdout",
     "output_type": "stream",
     "text": [
      "get attribute access\n"
     ]
    },
    {
     "name": "stderr",
     "output_type": "stream",
     "text": [
      "[I 2023-10-05 23:34:17,752] A new study created in RDB with name: no-name-a60df7b9-ddb1-48ce-afa0-43b4b49a72ba\n"
     ]
    },
    {
     "name": "stdout",
     "output_type": "stream",
     "text": [
      "trial access to lock 0\n",
      "get attribute access\n",
      "trial access to lock 1\n",
      "Load new model:  20231005-233418\n",
      "Load new model:  20231005-233418\n",
      "Model Loaded, init callbacks\n",
      "Model ready to train\n",
      "Start training model 20231005-233418\n",
      "Model Loaded, init callbacks\n",
      "Model ready to train\n",
      "Start training model 20231005-233418\n",
      "Epoch 1/25\n",
      "Epoch 1/25\n",
      "619/619 [==============================] - 23s 19ms/step - loss: 125.5172 - mape: 99.9966 - batch_nrmse: 1.3032 - val_loss: 87.4301 - val_mape: 99.9877 - val_batch_nrmse: 1.2028\n",
      "Epoch 2/25\n",
      "619/619 [==============================] - 25s 20ms/step - loss: 120.1793 - mape: 99.9954 - batch_nrmse: 1.3032 - val_loss: 84.8684 - val_mape: 99.9855 - val_batch_nrmse: 1.2028\n",
      "193/619 [========>.....................] - ETA: 5s - loss: 95.4748 - mape: 99.9902 - batch_nrmse: 1.3027Epoch 2/25\n",
      "619/619 [==============================] - 11s 18ms/step - loss: 88.9210 - mape: 99.9869 - batch_nrmse: 1.3032 - val_loss: 77.3782 - val_mape: 99.9796 - val_batch_nrmse: 1.2027\n",
      "503/619 [=======================>......] - ETA: 1s - loss: 85.3382 - mape: 99.9833 - batch_nrmse: 1.3040Epoch 3/25\n",
      "619/619 [==============================] - 11s 18ms/step - loss: 83.6038 - mape: 99.9819 - batch_nrmse: 1.3032 - val_loss: 71.0025 - val_mape: 99.9699 - val_batch_nrmse: 1.2027\n",
      "Epoch 3/25\n",
      "619/619 [==============================] - 7s 12ms/step - loss: 73.5760 - mape: 99.9726 - batch_nrmse: 1.3031 - val_loss: 66.4399 - val_mape: 99.9610 - val_batch_nrmse: 1.2026\n",
      "Epoch 4/25\n",
      "619/619 [==============================] - 6s 10ms/step - loss: 69.4179 - mape: 99.9635 - batch_nrmse: 1.3031 - val_loss: 69.7559 - val_mape: 99.9451 - val_batch_nrmse: 1.2026\n",
      "Epoch 4/25\n",
      "619/619 [==============================] - 6s 10ms/step - loss: 64.8127 - mape: 99.9540 - batch_nrmse: 1.3031 - val_loss: 59.2137 - val_mape: 99.9387 - val_batch_nrmse: 1.2025\n",
      "Epoch 5/25\n",
      "619/619 [==============================] - 7s 11ms/step - loss: 60.3427 - mape: 99.9382 - batch_nrmse: 1.3030 - val_loss: 55.3975 - val_mape: 99.9187 - val_batch_nrmse: 1.2024\n",
      "Epoch 5/25\n",
      "619/619 [==============================] - 7s 11ms/step - loss: 58.4019 - mape: 99.9310 - batch_nrmse: 1.3030 - val_loss: 53.6345 - val_mape: 99.9114 - val_batch_nrmse: 1.2024\n",
      "443/619 [====================>.........] - ETA: 1s - loss: 54.7732 - mape: 99.9114 - batch_nrmse: 1.3000Epoch 6/25\n",
      "619/619 [==============================] - 8s 13ms/step - loss: 54.0207 - mape: 99.9066 - batch_nrmse: 1.3029 - val_loss: 49.9802 - val_mape: 99.8816 - val_batch_nrmse: 1.2022\n",
      "258/619 [===========>..................] - ETA: 4s - loss: 54.4562 - mape: 99.9117 - batch_nrmse: 1.3033Epoch 6/25\n",
      "619/619 [==============================] - 10s 17ms/step - loss: 53.2440 - mape: 99.9031 - batch_nrmse: 1.3028 - val_loss: 49.0305 - val_mape: 99.8781 - val_batch_nrmse: 1.2022\n",
      "464/619 [=====================>........] - ETA: 2s - loss: 49.5926 - mape: 99.8735 - batch_nrmse: 1.3019Epoch 7/25\n",
      "619/619 [==============================] - 11s 17ms/step - loss: 48.9948 - mape: 99.8679 - batch_nrmse: 1.3027 - val_loss: 45.5504 - val_mape: 99.8368 - val_batch_nrmse: 1.2020\n",
      "Epoch 7/25\n",
      "619/619 [==============================] - 10s 16ms/step - loss: 48.8832 - mape: 99.8688 - batch_nrmse: 1.3027 - val_loss: 45.0886 - val_mape: 99.8379 - val_batch_nrmse: 1.2020\n",
      "380/619 [=================>............] - ETA: 3s - loss: 45.3962 - mape: 99.8296 - batch_nrmse: 1.3007Epoch 8/25\n",
      "619/619 [==============================] - 11s 17ms/step - loss: 44.7678 - mape: 99.8208 - batch_nrmse: 1.3025 - val_loss: 41.6502 - val_mape: 99.7813 - val_batch_nrmse: 1.2017\n",
      "342/619 [===============>..............] - ETA: 3s - loss: 45.7610 - mape: 99.8366 - batch_nrmse: 1.3002Epoch 8/25\n",
      "619/619 [==============================] - 11s 17ms/step - loss: 45.0850 - mape: 99.8271 - batch_nrmse: 1.3025 - val_loss: 41.6137 - val_mape: 99.7892 - val_batch_nrmse: 1.2017\n",
      "Epoch 9/25\n",
      "619/619 [==============================] - 11s 18ms/step - loss: 41.1000 - mape: 99.7636 - batch_nrmse: 1.3022 - val_loss: 38.3137 - val_mape: 99.7152 - val_batch_nrmse: 1.2013\n",
      "401/619 [==================>...........] - ETA: 2s - loss: 42.1665 - mape: 99.7850 - batch_nrmse: 1.3017Epoch 9/25\n",
      "619/619 [==============================] - 9s 15ms/step - loss: 41.7137 - mape: 99.7771 - batch_nrmse: 1.3023 - val_loss: 38.4687 - val_mape: 99.7299 - val_batch_nrmse: 1.2014\n",
      "Epoch 10/25\n",
      "619/619 [==============================] - 11s 17ms/step - loss: 37.8513 - mape: 99.6948 - batch_nrmse: 1.3019 - val_loss: 35.3857 - val_mape: 99.6376 - val_batch_nrmse: 1.2009\n",
      "Epoch 10/25\n",
      "619/619 [==============================] - 10s 16ms/step - loss: 38.6861 - mape: 99.7176 - batch_nrmse: 1.3020 - val_loss: 35.6828 - val_mape: 99.6607 - val_batch_nrmse: 1.2010\n",
      "250/619 [===========>..................] - ETA: 5s - loss: 35.6117 - mape: 99.6379 - batch_nrmse: 1.3024Epoch 11/25\n",
      "619/619 [==============================] - 10s 16ms/step - loss: 34.9363 - mape: 99.6131 - batch_nrmse: 1.3015 - val_loss: 32.6400 - val_mape: 99.5424 - val_batch_nrmse: 1.2004\n",
      "Epoch 11/25\n",
      "619/619 [==============================] - 10s 16ms/step - loss: 35.9480 - mape: 99.6468 - batch_nrmse: 1.3017 - val_loss: 33.1244 - val_mape: 99.5776 - val_batch_nrmse: 1.2006\n",
      "209/619 [=========>....................] - ETA: 6s - loss: 32.9415 - mape: 99.5455 - batch_nrmse: 1.3031Epoch 12/25\n",
      "619/619 [==============================] - 12s 19ms/step - loss: 32.3027 - mape: 99.5159 - batch_nrmse: 1.3011 - val_loss: 30.2217 - val_mape: 99.4341 - val_batch_nrmse: 1.1997\n",
      "567/619 [==========================>...] - ETA: 0s - loss: 33.5699 - mape: 99.5682 - batch_nrmse: 1.3008Epoch 12/25\n",
      "619/619 [==============================] - 10s 17ms/step - loss: 33.4594 - mape: 99.5644 - batch_nrmse: 1.3013 - val_loss: 30.7941 - val_mape: 99.4808 - val_batch_nrmse: 1.2001\n",
      "Epoch 13/25\n",
      "619/619 [==============================] - 13s 20ms/step - loss: 29.9097 - mape: 99.4021 - batch_nrmse: 1.3005 - val_loss: 27.9800 - val_mape: 99.3009 - val_batch_nrmse: 1.1990\n",
      "Epoch 13/25\n",
      "619/619 [==============================] - 12s 19ms/step - loss: 31.1919 - mape: 99.4687 - batch_nrmse: 1.3009 - val_loss: 28.7241 - val_mape: 99.3722 - val_batch_nrmse: 1.1995\n",
      "Epoch 14/25\n",
      "619/619 [==============================] - 11s 18ms/step - loss: 27.7306 - mape: 99.2691 - batch_nrmse: 1.2999 - val_loss: 26.0400 - val_mape: 99.1566 - val_batch_nrmse: 1.1982\n",
      "Epoch 14/25\n",
      "619/619 [==============================] - 11s 18ms/step - loss: 29.1231 - mape: 99.3598 - batch_nrmse: 1.3003 - val_loss: 26.8259 - val_mape: 99.2487 - val_batch_nrmse: 1.1988\n",
      "Epoch 15/25\n",
      "619/619 [==============================] - 12s 19ms/step - loss: 25.7444 - mape: 99.1150 - batch_nrmse: 1.2992 - val_loss: 24.1979 - val_mape: 98.9849 - val_batch_nrmse: 1.1972\n",
      "Epoch 15/25\n",
      "619/619 [==============================] - 11s 18ms/step - loss: 27.2332 - mape: 99.2358 - batch_nrmse: 1.2998 - val_loss: 25.0744 - val_mape: 99.1081 - val_batch_nrmse: 1.1980\n",
      " 62/619 [==>...........................] - ETA: 6s - loss: 24.4223 - mape: 98.9967 - batch_nrmse: 1.3027Epoch 16/25\n",
      "619/619 [==============================] - 10s 17ms/step - loss: 23.9307 - mape: 98.9396 - batch_nrmse: 1.2984 - val_loss: 22.5018 - val_mape: 98.7858 - val_batch_nrmse: 1.1961\n",
      "Epoch 16/25\n",
      "619/619 [==============================] - 11s 17ms/step - loss: 25.5044 - mape: 99.0976 - batch_nrmse: 1.2991 - val_loss: 23.4581 - val_mape: 98.9539 - val_batch_nrmse: 1.1971\n",
      "Epoch 17/25\n",
      "619/619 [==============================] - 12s 20ms/step - loss: 22.2754 - mape: 98.7427 - batch_nrmse: 1.2974 - val_loss: 21.0711 - val_mape: 98.5743 - val_batch_nrmse: 1.1949\n",
      "Epoch 17/25\n",
      "619/619 [==============================] - 11s 18ms/step - loss: 23.9207 - mape: 98.9460 - batch_nrmse: 1.2984 - val_loss: 22.0096 - val_mape: 98.7843 - val_batch_nrmse: 1.1962\n",
      " 26/619 [>.............................] - ETA: 8s - loss: 21.3672 - mape: 98.6433 - batch_nrmse: 1.2981Epoch 18/25\n",
      "619/619 [==============================] - 11s 18ms/step - loss: 20.7622 - mape: 98.5242 - batch_nrmse: 1.2964 - val_loss: 19.5566 - val_mape: 98.3304 - val_batch_nrmse: 1.1934\n",
      "Epoch 18/25\n",
      "619/619 [==============================] - 11s 18ms/step - loss: 22.4683 - mape: 98.7794 - batch_nrmse: 1.2975 - val_loss: 20.6237 - val_mape: 98.5872 - val_batch_nrmse: 1.1951\n",
      "Epoch 19/25\n",
      "619/619 [==============================] - 11s 18ms/step - loss: 19.3776 - mape: 98.2841 - batch_nrmse: 1.2952 - val_loss: 18.2959 - val_mape: 98.0761 - val_batch_nrmse: 1.1918\n",
      "Epoch 19/25\n",
      "619/619 [==============================] - 11s 18ms/step - loss: 21.1340 - mape: 98.5956 - batch_nrmse: 1.2966 - val_loss: 19.4204 - val_mape: 98.3905 - val_batch_nrmse: 1.1939\n",
      "Epoch 20/25\n",
      "619/619 [==============================] - 10s 16ms/step - loss: 19.9057 - mape: 98.3992 - batch_nrmse: 1.2956 - val_loss: 18.3271 - val_mape: 98.1781 - val_batch_nrmse: 1.1927\n",
      "Epoch 21/25\n",
      "619/619 [==============================] - 11s 18ms/step - loss: 18.1094 - mape: 98.0220 - batch_nrmse: 1.2938 - val_loss: 17.1286 - val_mape: 97.7885 - val_batch_nrmse: 1.1901\n",
      "Epoch 20/25\n",
      "619/619 [==============================] - 10s 16ms/step - loss: 18.7733 - mape: 98.1867 - batch_nrmse: 1.2945 - val_loss: 17.2450 - val_mape: 97.9116 - val_batch_nrmse: 1.1910\n",
      "Epoch 22/25\n",
      "619/619 [==============================] - 11s 17ms/step - loss: 16.9457 - mape: 97.7390 - batch_nrmse: 1.2924 - val_loss: 16.0326 - val_mape: 97.4649 - val_batch_nrmse: 1.1882\n",
      "Epoch 21/25\n",
      "619/619 [==============================] - 9s 15ms/step - loss: 17.7284 - mape: 97.9586 - batch_nrmse: 1.2933 - val_loss: 16.3165 - val_mape: 97.6887 - val_batch_nrmse: 1.1897\n",
      "Epoch 23/25\n",
      "619/619 [==============================] - 10s 17ms/step - loss: 15.8776 - mape: 97.4334 - batch_nrmse: 1.2907 - val_loss: 14.9264 - val_mape: 97.1210 - val_batch_nrmse: 1.1861\n",
      "Epoch 22/25\n",
      "619/619 [==============================] - 10s 16ms/step - loss: 16.7606 - mape: 97.7151 - batch_nrmse: 1.2921 - val_loss: 15.4653 - val_mape: 97.4164 - val_batch_nrmse: 1.1880\n",
      "Epoch 24/25\n",
      "619/619 [==============================] - 10s 17ms/step - loss: 14.8947 - mape: 97.1055 - batch_nrmse: 1.2890 - val_loss: 14.0265 - val_mape: 96.7531 - val_batch_nrmse: 1.1837\n",
      "Epoch 23/25\n",
      "619/619 [==============================] - 9s 15ms/step - loss: 15.8638 - mape: 97.4540 - batch_nrmse: 1.2907 - val_loss: 14.7705 - val_mape: 97.1952 - val_batch_nrmse: 1.1866\n",
      "Epoch 25/25\n",
      "619/619 [==============================] - 10s 16ms/step - loss: 13.9899 - mape: 96.7484 - batch_nrmse: 1.2871 - val_loss: 13.5476 - val_mape: 96.4065 - val_batch_nrmse: 1.1814\n",
      "244/619 [==========>...................] - ETA: 5s - loss: 15.1824 - mape: 97.2427 - batch_nrmse: 1.2876Epoch 24/25\n",
      "619/619 [==============================] - 10s 16ms/step - loss: 15.0312 - mape: 97.1730 - batch_nrmse: 1.2892 - val_loss: 13.6570 - val_mape: 96.7544 - val_batch_nrmse: 1.1843\n",
      "619/619 [==============================] - 9s 14ms/step - loss: 13.1534 - mape: 96.3702 - batch_nrmse: 1.2851 - val_loss: 12.4304 - val_mape: 95.9843 - val_batch_nrmse: 1.1789\n",
      "Epoch 25/25\n",
      "619/619 [==============================] - 8s 12ms/step - loss: 12.3814 - mape: 95.9616 - batch_nrmse: 1.2829 - val_loss: 11.3118 - val_mape: 95.3965 - val_batch_nrmse: 1.1757\n",
      "133/133 [==============================] - 1s 5ms/step\n",
      "mean absolute percent error  :  95.39651603890337\n",
      "mean percent error  :  -95.39651603890337\n",
      "mean mp : inf std mp : None\n",
      "NRMSE: 1.1849430543447121\n",
      "msle :  11.311786022036006\n",
      "20231005-233418 finished training step 1/0\n",
      "release lock 0\n"
     ]
    },
    {
     "name": "stderr",
     "output_type": "stream",
     "text": [
      "[I 2023-10-05 23:38:53,452] Trial 0 finished with value: 95.39651603890337 and parameters: {'layer1_neurons': 24, 'layer2_neurons': 36, 'layer3_neurons': 28, 'layer4_neurons': 35, 'layer5_neurons': 31, 'layer6_neurons': 34, 'layer7_neurons': 34, 'num_layers': 7}. Best is trial 0 with value: 95.39651603890337.\n"
     ]
    },
    {
     "name": "stdout",
     "output_type": "stream",
     "text": [
      "133/133 [==============================] - 1s 6ms/step\n",
      "mean absolute percent error  :  96.75442842676838\n",
      "mean percent error  :  -96.75442842676838\n",
      "mean mp : 45.73342785096643 std mp : 52.285681460200124\n",
      "NRMSE: 1.1934230059242705\n",
      "msle :  13.656955847693233\n",
      "20231005-233418 finished training step 1/0\n",
      "release lock 1\n"
     ]
    },
    {
     "name": "stderr",
     "output_type": "stream",
     "text": [
      "[I 2023-10-05 23:38:55,734] Trial 0 finished with value: 96.75442842676838 and parameters: {'layer1_neurons': 19, 'layer2_neurons': 15, 'layer3_neurons': 39, 'layer4_neurons': 21, 'layer5_neurons': 49, 'layer6_neurons': 22, 'num_layers': 6}. Best is trial 0 with value: 96.75442842676838.\n"
     ]
    },
    {
     "name": "stdout",
     "output_type": "stream",
     "text": [
      "Best Parameters: {'layer1_neurons': 24, 'layer2_neurons': 36, 'layer3_neurons': 28, 'layer4_neurons': 35, 'layer5_neurons': 31, 'layer6_neurons': 34, 'layer7_neurons': 34, 'num_layers': 7}\n",
      "Best value: 95.39651603890337\n"
     ]
    },
    {
     "data": {
      "text/plain": [
       "{'layer1_neurons': 24,\n",
       " 'layer2_neurons': 36,\n",
       " 'layer3_neurons': 28,\n",
       " 'layer4_neurons': 35,\n",
       " 'layer5_neurons': 31,\n",
       " 'layer6_neurons': 34,\n",
       " 'layer7_neurons': 34,\n",
       " 'num_layers': 7}"
      ]
     },
     "execution_count": 1,
     "metadata": {},
     "output_type": "execute_result"
    }
   ],
   "source": [
    "import CHF_model_api as CHF\n",
    "\n",
    "generic_hparams = {\n",
    "        'input_number': 4,\n",
    "        'name': None,\n",
    "        'architecture':[4,61,51,28,39,26,21,20,14,1],\n",
    "        'learning_rate': 0.003708,\n",
    "        'dropout_rate' : 0.325,\n",
    "        'learning_rate_decay' : 0.96,\n",
    "        'rythm' : 20,\n",
    "        'alpha_acti' : 0,#0.2584341076378446,\n",
    "        'batch_size' : 32,\n",
    "        'optimizer' : 'adam',\n",
    "        'max_epochs' : 3,\n",
    "        'steps': 25,\n",
    "        'loss_function' : 'msle',\n",
    "        'loss_delta_stop' : 0.001,\n",
    "        'batch_normalisation' : True,\n",
    "        'patience': 50,\n",
    "        'data_seed' : 1,\n",
    "        'seed_tf': 1,\n",
    "        'normalization_mean': None,\n",
    "        'normalization_std': None,\n",
    "        'mpe': None,\n",
    "        'msle': None,\n",
    "        'mean_MP': None,\n",
    "        'std_MP': None,\n",
    "        'nrmse': None,\n",
    "        'trained_epochs': 0,\n",
    "        'verbose': 1,\n",
    "        'metric_name': 'mape'\n",
    "}\n",
    "my_opti = CHF.MyOptimizer(\n",
    "        generic_hparams=generic_hparams,    #a set of generic Hyperparameters \n",
    "        jobs=2,                             #number of process/cpu to use\n",
    "        trials=1,                           #numbers of time we test a set of HP(times jobs in total)\n",
    "        db_name='opti_mape_all',            #name of the database se above\n",
    "        type=3,                             #type of architecture (decrease, increase, random)\n",
    "        opti_architecture=True,             #true to optimize hp\n",
    "        opti_dropout=False,\n",
    "        opti_learning_rate=False,\n",
    "        opti_lr_decrease=False,\n",
    "        opti_activation_method=False,\n",
    "        verbose=1\n",
    ")\n",
    "my_opti.optimize_my_models()"
   ]
  },
  {
   "cell_type": "markdown",
   "id": "be7413aa-c89f-4841-ba4a-b2495d112b93",
   "metadata": {},
   "source": [
    "<span style=\"font-size:20px;\">The output will give the best set of hyperparameters of the database </span>\n"
   ]
  },
  {
   "cell_type": "code",
   "execution_count": null,
   "id": "f1e04b13-8d79-42c4-92a6-9033ccc52e60",
   "metadata": {},
   "outputs": [],
   "source": [
    "<span style=\"font-size:20px;\"></span>\n"
   ]
  }
 ],
 "metadata": {
  "kernelspec": {
   "display_name": "Python 3 (ipykernel)",
   "language": "python",
   "name": "python3"
  },
  "language_info": {
   "codemirror_mode": {
    "name": "ipython",
    "version": 3
   },
   "file_extension": ".py",
   "mimetype": "text/x-python",
   "name": "python",
   "nbconvert_exporter": "python",
   "pygments_lexer": "ipython3",
   "version": "3.10.12"
  }
 },
 "nbformat": 4,
 "nbformat_minor": 5
}
