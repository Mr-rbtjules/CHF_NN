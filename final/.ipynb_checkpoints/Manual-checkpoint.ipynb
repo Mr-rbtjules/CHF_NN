{
 "cells": [
  {
   "cell_type": "markdown",
   "id": "0eaf677d-291f-4aa0-9712-33fc186a1820",
   "metadata": {},
   "source": [
    "<span style=\"font-size:40px;\">Manual -> CHF_model_api</span>"
   ]
  },
  {
   "cell_type": "markdown",
   "id": "1726e1f8-e10d-4cdf-8c15-68fc19d109ac",
   "metadata": {},
   "source": [
    "# 1.Introducing the package\n",
    "\n",
    "<span style=\"font-size:20px;\">This package is meant to manipulate easily Neural Network models for CHF predictions and optimize the hyperparameters of the models\n",
    "tree: \n",
    "</span>\n",
    "\n",
    "\n",
    "<span style=\"font-size:20px;\"></span>\n"
   ]
  },
  {
   "cell_type": "code",
   "execution_count": 7,
   "id": "33c93f51-d702-40d6-9fd2-90eb08dbb364",
   "metadata": {},
   "outputs": [
    {
     "data": {
      "text/plain": [
       "'\\n.\\n├── config.py\\n├── data\\n│\\xa0\\xa0 ├── csv_files\\n│\\xa0\\xa0 │\\xa0\\xa0 ├── original_data.csv\\n│\\xa0\\xa0 │\\xa0\\xa0 ├── sort_data_backup.csv\\n│\\xa0\\xa0 │\\xa0\\xa0 └── sort_data.csv\\n│\\xa0\\xa0 ├── hparams_tuning_tb\\n│\\xa0\\xa0 ├── logs\\n│\\xa0\\xa0 ├── optuna_sql_databases\\n│\\xa0\\xa0 ├── pdf_files\\n│\\xa0\\xa0 ├── saved_models\\n│\\xa0\\xa0 │\\xa0\\xa0 ├── hparams\\n│\\xa0\\xa0 │\\xa0\\xa0 └── models\\n│\\xa0\\xa0 └── visuals\\n├── dataBase.py\\n├── docs\\n├── __init__.py\\n├── model.py\\n├── tensorBoard.py\\n├── tests\\n└── tools.py\\n\\n'"
      ]
     },
     "execution_count": 7,
     "metadata": {},
     "output_type": "execute_result"
    }
   ],
   "source": [
    "\"\"\"\n",
    ".\n",
    "├── config.py\n",
    "├── data\n",
    "│   ├── csv_files\n",
    "│   │   ├── original_data.csv\n",
    "│   │   ├── sort_data_backup.csv\n",
    "│   │   └── sort_data.csv\n",
    "│   ├── hparams_tuning_tb\n",
    "│   ├── logs\n",
    "│   ├── optuna_sql_databases\n",
    "│   ├── pdf_files\n",
    "│   ├── saved_models\n",
    "│   │   ├── hparams\n",
    "│   │   └── models\n",
    "│   └── visuals\n",
    "├── dataBase.py\n",
    "├── docs\n",
    "├── __init__.py\n",
    "├── model.py\n",
    "├── tensorBoard.py\n",
    "├── tests\n",
    "└── tools.py\n",
    "\n",
    "\"\"\""
   ]
  },
  {
   "cell_type": "markdown",
   "id": "6b1f863e-a142-41bc-8272-dd5c8f35a78e",
   "metadata": {},
   "source": [
    "# 2. Installation of dependencies and related package\n",
    "\n",
    "<span style=\"font-size:20px;\">as describe in the README.md in the package, the differents package need to be installed in order to use CHF_model_api\n",
    "</span>\n"
   ]
  },
  {
   "cell_type": "markdown",
   "id": "846a91e4-5fd8-46a7-b58c-81a1ba56dace",
   "metadata": {},
   "source": [
    "# 3.Common Use\n",
    "<span style=\"font-size:20px;\">In this manual we will use the package called CHF_model_api present in the final directory, since it is locate in the parent directory of this manual we will add the path '.' to the Python Path. The usage of the package as CHF is simple, we just have to do CHF.python_file_name_in_the_package.a_function_in_the_file() for function and CHF.Custom_Class() to create object of a wanted class, more example coming</span>\n"
   ]
  },
  {
   "cell_type": "code",
   "execution_count": 1,
   "id": "d4e88bfa-e49a-4292-955b-b5e7b9ad466c",
   "metadata": {},
   "outputs": [
    {
     "name": "stderr",
     "output_type": "stream",
     "text": [
      "2023-10-04 16:21:54.523432: I tensorflow/tsl/cuda/cudart_stub.cc:28] Could not find cuda drivers on your machine, GPU will not be used.\n",
      "2023-10-04 16:21:54.959916: I tensorflow/tsl/cuda/cudart_stub.cc:28] Could not find cuda drivers on your machine, GPU will not be used.\n",
      "2023-10-04 16:21:54.962025: I tensorflow/core/platform/cpu_feature_guard.cc:182] This TensorFlow binary is optimized to use available CPU instructions in performance-critical operations.\n",
      "To enable the following instructions: AVX2 FMA, in other operations, rebuild TensorFlow with the appropriate compiler flags.\n",
      "2023-10-04 16:21:57.367140: W tensorflow/compiler/tf2tensorrt/utils/py_utils.cc:38] TF-TRT Warning: Could not find TensorRT\n"
     ]
    }
   ],
   "source": [
    "import sys\n",
    "sys.path.append('.')\n",
    "\n",
    "import CHF_model_api as CHF"
   ]
  },
  {
   "cell_type": "markdown",
   "id": "a8677350-f57b-404e-ab17-347dfeeeefbf",
   "metadata": {},
   "source": [
    "# 4.Exploring tools.py file and functions\n",
    "\n",
    "<span style=\"font-size:20px;\">As we can discover in the documentation, several functions are available in tools.py here is an example of usage:\n",
    "</span>\n"
   ]
  },
  {
   "cell_type": "code",
   "execution_count": 2,
   "id": "c53237c6-5062-48e0-84fe-34236130ad65",
   "metadata": {},
   "outputs": [
    {
     "name": "stdout",
     "output_type": "stream",
     "text": [
      "package working\n",
      "True\n"
     ]
    }
   ],
   "source": [
    "test = CHF.tools.testTools()\n",
    "print(test)"
   ]
  },
  {
   "cell_type": "markdown",
   "id": "02e364d2-6b15-436b-acaf-9aeb002e598e",
   "metadata": {},
   "source": [
    "<span style=\"font-size:20px;\">tools.py is mainly used in the other class and don't have any usage outside</span>\n"
   ]
  },
  {
   "cell_type": "markdown",
   "id": "704a01cc-11e2-4bf5-94c1-9dd27043f6dc",
   "metadata": {},
   "source": [
    "# 5.Exploring dataBase.py and the MyDB class\n",
    "\n",
    "<span style=\"font-size:20px;\">The class DataBase has 2 main uses:</span>\n",
    "<ul style=\"font-size:20px;\">\n",
    "    <li>Create data to train a neural network based on the LUT.</li>\n",
    "    <li>Generate a function using linear interpolation on the LUT data and plot its performances.</li>\n",
    "</ul>\n",
    "\n",
    "\n",
    "<span style=\"font-size:20px;\">The data extraction from the LUT is made automatically when a MyDB object\n",
    "is created, optional parameters can be set, a seed number (to get a different shuffle of the database, more on that after)) and the input number 4 for X,P,G,L/D or 5 for X,P,DH,G,L/D</span>\n",
    "\n"
   ]
  },
  {
   "cell_type": "code",
   "execution_count": 3,
   "id": "4e42d1c3-8cf2-485a-9bfb-9e02d27c2c33",
   "metadata": {},
   "outputs": [
    {
     "name": "stdout",
     "output_type": "stream",
     "text": [
      "Load data from csv\n",
      "Remove negative DHIN\n",
      "Data loaded seed: 1\n"
     ]
    }
   ],
   "source": [
    "database = CHF.MyDB(seed=1, input_number=4)\n"
   ]
  },
  {
   "cell_type": "markdown",
   "id": "040d57b2-8814-4e82-b799-487a7e51a454",
   "metadata": {},
   "source": [
    "---\n",
    "## Dictionary Structure: `MyDB.data`\n",
    "\n",
    "\n",
    "- **validation_targets**: \n",
    "    - Description: `the list of CHF use to check the performance`\n",
    "- **validation_features**: \n",
    "    - Description: `the list of the lists of the parameters (input) use to check the performance`\n",
    "- **train_features**: \n",
    "    - Description: `the list of the lists of the parameters use to train the NN model or create the interpolation function`\n",
    "- **train_targets**: \n",
    "    - Description: `the set of CHF use to train the NN model or create the interpolation function`\n",
    "- **mean**: \n",
    "    - Description: `list of the mean of each parameters`\n",
    "- **std**: \n",
    "    - Description: `list of the standard deviation of each parameters`\n",
    "---\n",
    "\n",
    "\n"
   ]
  },
  {
   "cell_type": "markdown",
   "id": "62e2d695-15f5-4957-a2b4-9a95b2ef31bf",
   "metadata": {},
   "source": [
    "<span style=\"font-size:20px;\">Another functionality we can use is the interpolation of LUT to make predictions</span>"
   ]
  },
  {
   "cell_type": "code",
   "execution_count": 4,
   "id": "20ac7924-d477-4239-8534-90dac084450d",
   "metadata": {},
   "outputs": [
    {
     "name": "stdout",
     "output_type": "stream",
     "text": [
      "Load data from csv\n",
      "Remove negative DHIN\n",
      "Data loaded seed: 1\n",
      "Creation of the interpolation function of LUT\n"
     ]
    }
   ],
   "source": [
    "db_for_interpol = CHF.MyDB(seed=1,input_number=4, interpolation=True)\n",
    "point = [152.67175572519082,1.04000000e+06, 5.17000000e+02, 5.63000000e-01] #close to point 2922\n",
    "set_points = [point]\n",
    "val = db_for_interpol.interpolate(set_points)\n",
    "print(val)"
   ]
  },
  {
   "cell_type": "code",
   "execution_count": 6,
   "id": "5856bf6e-6059-4b83-b62c-2e07c34ac389",
   "metadata": {},
   "outputs": [
    {
     "name": "stdout",
     "output_type": "stream",
     "text": [
      "Mean Absolute Percentage Error (MAPE): 8.51%\n",
      "0.9981972068570271\n",
      "stdMp :  0.13608252884882477\n",
      "nrmse  0.12604621142279313\n",
      "msle  0.018218936477969256\n",
      "point norm de data :  [-0.60381775 -1.57208663 -0.99405486  0.77760186]\n",
      "version non norm : [[1.52671756e+02 1.04000000e+06 5.17000000e+02 5.60000000e-01]]\n",
      "X_list [[152.67175572519082, 1040000.0, 517.0, 0.563]]\n",
      "la on verifie que coherent\n",
      "inter X=  [1424752.87292795]\n",
      "inter pointdata [1373052.57398913]\n",
      "COmpare avec grid [1424752.87292795]\n"
     ]
    }
   ],
   "source": [
    "#or to get the performances of the LUT \n",
    "db_for_interpol.getLUTPerformances()\n",
    "\n"
   ]
  },
  {
   "cell_type": "markdown",
   "id": "4aec5158-ac14-4630-93e0-88dd411eb2c9",
   "metadata": {},
   "source": [
    "# 6. Exploring the model.py file and the \n",
    "<span style=\"font-size:20px;\"></span>\n"
   ]
  },
  {
   "cell_type": "code",
   "execution_count": null,
   "id": "f1e04b13-8d79-42c4-92a6-9033ccc52e60",
   "metadata": {},
   "outputs": [],
   "source": [
    "<span style=\"font-size:20px;\"></span>\n"
   ]
  }
 ],
 "metadata": {
  "kernelspec": {
   "display_name": "Python 3 (ipykernel)",
   "language": "python",
   "name": "python3"
  },
  "language_info": {
   "codemirror_mode": {
    "name": "ipython",
    "version": 3
   },
   "file_extension": ".py",
   "mimetype": "text/x-python",
   "name": "python",
   "nbconvert_exporter": "python",
   "pygments_lexer": "ipython3",
   "version": "3.10.12"
  }
 },
 "nbformat": 4,
 "nbformat_minor": 5
}
