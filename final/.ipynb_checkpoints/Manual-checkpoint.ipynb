{
 "cells": [
  {
   "cell_type": "markdown",
   "id": "1726e1f8-e10d-4cdf-8c15-68fc19d109ac",
   "metadata": {},
   "source": [
    "# 1.Introducing the package\n",
    "\n",
    "<span style=\"font-size:20px;\">This package is meant to manipulate easily Neural Network models for CHF predictions and optimize the hyperparameters of the models</span>\n",
    "\n"
   ]
  },
  {
   "cell_type": "markdown",
   "id": "6b1f863e-a142-41bc-8272-dd5c8f35a78e",
   "metadata": {},
   "source": [
    "# 2. Installation of dependencies and related package\n",
    "\n",
    "<span style=\"font-size:20px;\">as describe in the README.md in the package, the differents package need to be installed in order to use CHF_model_api\n",
    "</span>\n",
    "<span style=\"font-size:20px;\"></span>\n"
   ]
  },
  {
   "cell_type": "markdown",
   "id": "846a91e4-5fd8-46a7-b58c-81a1ba56dace",
   "metadata": {},
   "source": [
    "# 3.Common Use\n",
    "<span style=\"font-size:20px;\">In this manual we will use the package called CHF_model_api present in the final directory, since it is locate in the parent directory of this manual we will add the path '.' to the Python Path. The usage of the package as CHF is simple, we just have to do CHF.python_file_name_in_the_package.a_function_in_the_file() for function and CHF.Custom_Class() to create object of a wanted class, more example coming</span>\n"
   ]
  },
  {
   "cell_type": "code",
   "execution_count": 5,
   "id": "d4e88bfa-e49a-4292-955b-b5e7b9ad466c",
   "metadata": {},
   "outputs": [],
   "source": [
    "import sys\n",
    "sys.path.append('.')\n",
    "\n",
    "import CHF_model_api as CHF"
   ]
  },
  {
   "cell_type": "markdown",
   "id": "a8677350-f57b-404e-ab17-347dfeeeefbf",
   "metadata": {},
   "source": [
    "# 2.Exploring tools.py file and functions\n",
    "\n",
    "As we can discover in the documentation, several functions are available in tools.py here is an example of usage:\n"
   ]
  },
  {
   "cell_type": "code",
   "execution_count": 8,
   "id": "c53237c6-5062-48e0-84fe-34236130ad65",
   "metadata": {},
   "outputs": [
    {
     "name": "stdout",
     "output_type": "stream",
     "text": [
      "package working\n",
      "None\n"
     ]
    }
   ],
   "source": [
    "test = CHF.tools.testTools()\n",
    "print(test)"
   ]
  },
  {
   "cell_type": "code",
   "execution_count": null,
   "id": "b8d7384d-7476-43a4-ae96-065befc5148e",
   "metadata": {},
   "outputs": [],
   "source": []
  }
 ],
 "metadata": {
  "kernelspec": {
   "display_name": "Python 3 (ipykernel)",
   "language": "python",
   "name": "python3"
  },
  "language_info": {
   "codemirror_mode": {
    "name": "ipython",
    "version": 3
   },
   "file_extension": ".py",
   "mimetype": "text/x-python",
   "name": "python",
   "nbconvert_exporter": "python",
   "pygments_lexer": "ipython3",
   "version": "3.10.12"
  }
 },
 "nbformat": 4,
 "nbformat_minor": 5
}
