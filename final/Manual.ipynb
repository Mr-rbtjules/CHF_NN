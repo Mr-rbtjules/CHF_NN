{
 "cells": [
  {
   "cell_type": "markdown",
   "id": "0eaf677d-291f-4aa0-9712-33fc186a1820",
   "metadata": {},
   "source": [
    "<span style=\"font-size:40px;\">Manual -> CHF_model_api</span>"
   ]
  },
  {
   "cell_type": "markdown",
   "id": "1726e1f8-e10d-4cdf-8c15-68fc19d109ac",
   "metadata": {},
   "source": [
    "# 1.Introducing the package\n",
    "\n",
    "<span style=\"font-size:20px;\">This package is meant to manipulate easily Neural Network models for CHF predictions and optimize the hyperparameters of the models</span>\n",
    "\n",
    "<span style=\"font-size:20px;\"></span>\n"
   ]
  },
  {
   "cell_type": "markdown",
   "id": "6b1f863e-a142-41bc-8272-dd5c8f35a78e",
   "metadata": {},
   "source": [
    "# 2. Installation of dependencies and related package\n",
    "\n",
    "<span style=\"font-size:20px;\">as describe in the README.md in the package, the differents package need to be installed in order to use CHF_model_api\n",
    "</span>\n"
   ]
  },
  {
   "cell_type": "markdown",
   "id": "846a91e4-5fd8-46a7-b58c-81a1ba56dace",
   "metadata": {},
   "source": [
    "# 3.Common Use\n",
    "<span style=\"font-size:20px;\">In this manual we will use the package called CHF_model_api present in the final directory, since it is locate in the parent directory of this manual we will add the path '.' to the Python Path. The usage of the package as CHF is simple, we just have to do CHF.python_file_name_in_the_package.a_function_in_the_file() for function and CHF.Custom_Class() to create object of a wanted class, more example coming</span>\n"
   ]
  },
  {
   "cell_type": "code",
   "execution_count": 1,
   "id": "d4e88bfa-e49a-4292-955b-b5e7b9ad466c",
   "metadata": {},
   "outputs": [
    {
     "name": "stderr",
     "output_type": "stream",
     "text": [
      "2023-10-03 18:01:27.428579: I tensorflow/tsl/cuda/cudart_stub.cc:28] Could not find cuda drivers on your machine, GPU will not be used.\n",
      "2023-10-03 18:01:27.508825: I tensorflow/tsl/cuda/cudart_stub.cc:28] Could not find cuda drivers on your machine, GPU will not be used.\n",
      "2023-10-03 18:01:27.510079: I tensorflow/core/platform/cpu_feature_guard.cc:182] This TensorFlow binary is optimized to use available CPU instructions in performance-critical operations.\n",
      "To enable the following instructions: AVX2 FMA, in other operations, rebuild TensorFlow with the appropriate compiler flags.\n",
      "2023-10-03 18:01:28.957534: W tensorflow/compiler/tf2tensorrt/utils/py_utils.cc:38] TF-TRT Warning: Could not find TensorRT\n"
     ]
    }
   ],
   "source": [
    "import sys\n",
    "sys.path.append('.')\n",
    "\n",
    "import CHF_model_api as CHF"
   ]
  },
  {
   "cell_type": "markdown",
   "id": "a8677350-f57b-404e-ab17-347dfeeeefbf",
   "metadata": {},
   "source": [
    "# 4.Exploring tools.py file and functions\n",
    "\n",
    "<span style=\"font-size:20px;\">As we can discover in the documentation, several functions are available in tools.py here is an example of usage:\n",
    "</span>\n"
   ]
  },
  {
   "cell_type": "code",
   "execution_count": 3,
   "id": "c53237c6-5062-48e0-84fe-34236130ad65",
   "metadata": {},
   "outputs": [
    {
     "name": "stdout",
     "output_type": "stream",
     "text": [
      "package working\n",
      "True\n"
     ]
    }
   ],
   "source": [
    "test = CHF.tools.testTools()\n",
    "print(test)"
   ]
  },
  {
   "cell_type": "markdown",
   "id": "02e364d2-6b15-436b-acaf-9aeb002e598e",
   "metadata": {},
   "source": [
    "<span style=\"font-size:20px;\">tools.py is mainly used in the other class and don't have any usage outside</span>\n"
   ]
  },
  {
   "cell_type": "markdown",
   "id": "3aa57494-9216-4d13-ba69-d40675f6ebe4",
   "metadata": {},
   "source": [
    "# 5. Exploring dataBase.py and DataBase class\n",
    "<span style=\"font-size:20px;\">The class DataBase has 2 main usage:</span>\n",
    "\n",
    "\\begin{itemize}\n",
    "    \\item <span style=\"font-size:20px;\">hello</span>\n",
    "\\end{itemize}\n",
    "\n",
    "\n",
    "\n"
   ]
  },
  {
   "cell_type": "markdown",
   "id": "704a01cc-11e2-4bf5-94c1-9dd27043f6dc",
   "metadata": {},
   "source": [
    "The class DataBase has 2 main use:\n",
    "-create data to train a neural network based on the LUT\n",
    "-generate a function using linear interpolation for the LUT and plot its performances\n",
    "\n"
   ]
  },
  {
   "cell_type": "code",
   "execution_count": null,
   "id": "f1e04b13-8d79-42c4-92a6-9033ccc52e60",
   "metadata": {},
   "outputs": [],
   "source": [
    "<span style=\"font-size:20px;\"></span>\n"
   ]
  }
 ],
 "metadata": {
  "kernelspec": {
   "display_name": "Python 3 (ipykernel)",
   "language": "python",
   "name": "python3"
  },
  "language_info": {
   "codemirror_mode": {
    "name": "ipython",
    "version": 3
   },
   "file_extension": ".py",
   "mimetype": "text/x-python",
   "name": "python",
   "nbconvert_exporter": "python",
   "pygments_lexer": "ipython3",
   "version": "3.10.12"
  }
 },
 "nbformat": 4,
 "nbformat_minor": 5
}
